{
 "cells": [
  {
   "cell_type": "code",
   "execution_count": 1,
   "id": "b0c4d4c0-ba60-44e1-ac5f-11c864232cfb",
   "metadata": {},
   "outputs": [
    {
     "name": "stderr",
     "output_type": "stream",
     "text": [
      "\u001b[32m\u001b[1m  Activating\u001b[22m\u001b[39m project at `~/Documents/repos/nanoOpt.jl`\n"
     ]
    }
   ],
   "source": [
    "using Pkg\n",
    "Pkg.activate(\"../..\")"
   ]
  },
  {
   "cell_type": "code",
   "execution_count": 2,
   "id": "d25efd15-0ade-4dde-b9de-82a86b50c937",
   "metadata": {},
   "outputs": [
    {
     "data": {
      "text/plain": [
       "Plots.PlotlyBackend()"
      ]
     },
     "execution_count": 2,
     "metadata": {},
     "output_type": "execute_result"
    }
   ],
   "source": [
    "using Measures,LazyGrids,SpecialFunctions,LaTeXStrings,Plots; plotly()"
   ]
  },
  {
   "cell_type": "code",
   "execution_count": 3,
   "id": "085f8a5e-5e32-4e0d-8da3-0efa799a39ab",
   "metadata": {},
   "outputs": [
    {
     "data": {
      "text/plain": [
       "KsspSlab (generic function with 1 method)"
      ]
     },
     "execution_count": 3,
     "metadata": {},
     "output_type": "execute_result"
    }
   ],
   "source": [
    "include(\"../../src/NanoOpt.jl\")"
   ]
  },
  {
   "cell_type": "code",
   "execution_count": 81,
   "id": "c8992689-9e5c-46f2-b420-2ee715033683",
   "metadata": {},
   "outputs": [
    {
     "data": {
      "text/plain": [
       "sphtable (generic function with 2 methods)"
      ]
     },
     "execution_count": 81,
     "metadata": {},
     "output_type": "execute_result"
    }
   ],
   "source": [
    "function sphere(n::Int64)\n",
    "    θ = LinRange(0,π,n)\n",
    "    ϕ = LinRange(-π,π,n)\n",
    "    \n",
    "    xA =  cos.(ϕ)*sin.(θ)'\n",
    "    yA =  sin.(ϕ)*sin.(θ)'\n",
    "    zA =  ones(n)*cos.(θ)'\n",
    "    \n",
    "    xA,yA,zA\n",
    "end\n",
    "\n",
    "function sphtable(lmax::Int64,key::String=\"\")\n",
    "    mtab = Vector{Matrix{Int64}}(undef,0)\n",
    "    ltab = Vector{Matrix{Int64}}(undef,0)\n",
    "    for l ∈ 1:lmax\n",
    "        if key == \"z\"\n",
    "            m = Matrix(reshape(-1:1,(1,:)))\n",
    "        else\n",
    "            m = Matrix(reshape(-l:l,(1,:)))\n",
    "        end\n",
    "        push!(ltab,Matrix(l*ones(length(m))'))\n",
    "        push!(mtab,m)\n",
    "    end\n",
    "    ltab,mtab\n",
    "end"
   ]
  },
  {
   "cell_type": "code",
   "execution_count": 99,
   "id": "97eda82d-9787-4554-9be9-bc8c0d2edfca",
   "metadata": {},
   "outputs": [],
   "source": [
    "lmax = 4\n",
    "key=\"\";"
   ]
  },
  {
   "cell_type": "code",
   "execution_count": 108,
   "id": "88dd5a75-2740-4eea-a1a5-1a888629c346",
   "metadata": {},
   "outputs": [],
   "source": [
    "ltab,mtab = sphtable(3)\n",
    "ltab,mtab = [[0;;],ltab],[0;mtab];"
   ]
  },
  {
   "cell_type": "code",
   "execution_count": 109,
   "id": "9bbb34d2-2002-491c-aa07-0480c441aff3",
   "metadata": {},
   "outputs": [
    {
     "data": {
      "text/plain": [
       "2-element Vector{Array}:\n",
       " [0;;]\n",
       " [[1 1 1], [2 2 … 2 2], [3 3 … 3 3]]"
      ]
     },
     "execution_count": 109,
     "metadata": {},
     "output_type": "execute_result"
    }
   ],
   "source": [
    "ltab"
   ]
  },
  {
   "cell_type": "code",
   "execution_count": 104,
   "id": "88093c71-4378-404d-be97-7edc0595b71b",
   "metadata": {},
   "outputs": [
    {
     "data": {
      "text/plain": [
       "1×1 Matrix{Int64}:\n",
       " 0"
      ]
     },
     "execution_count": 104,
     "metadata": {},
     "output_type": "execute_result"
    }
   ],
   "source": [
    "[0;;]"
   ]
  },
  {
   "cell_type": "code",
   "execution_count": 110,
   "id": "24df7b5a-4d9f-4a38-b844-dc62e0ca3f6c",
   "metadata": {},
   "outputs": [
    {
     "name": "stdout",
     "output_type": "stream",
     "text": [
      "search: \u001b[0m\u001b[1mf\u001b[22m\u001b[0m\u001b[1ma\u001b[22m\u001b[0m\u001b[1mc\u001b[22m\u001b[0m\u001b[1mt\u001b[22m\u001b[0m\u001b[1mo\u001b[22m\u001b[0m\u001b[1mr\u001b[22m\u001b[0m\u001b[1mi\u001b[22m\u001b[0m\u001b[1ma\u001b[22m\u001b[0m\u001b[1ml\u001b[22m l\u001b[0m\u001b[1mf\u001b[22m\u001b[0m\u001b[1ma\u001b[22m\u001b[0m\u001b[1mc\u001b[22m\u001b[0m\u001b[1mt\u001b[22m\u001b[0m\u001b[1mo\u001b[22m\u001b[0m\u001b[1mr\u001b[22m\u001b[0m\u001b[1mi\u001b[22m\u001b[0m\u001b[1ma\u001b[22m\u001b[0m\u001b[1ml\u001b[22m log\u001b[0m\u001b[1mf\u001b[22m\u001b[0m\u001b[1ma\u001b[22m\u001b[0m\u001b[1mc\u001b[22m\u001b[0m\u001b[1mt\u001b[22m\u001b[0m\u001b[1mo\u001b[22m\u001b[0m\u001b[1mr\u001b[22m\u001b[0m\u001b[1mi\u001b[22m\u001b[0m\u001b[1ma\u001b[22m\u001b[0m\u001b[1ml\u001b[22m \u001b[0m\u001b[1mF\u001b[22m\u001b[0m\u001b[1ma\u001b[22m\u001b[0m\u001b[1mc\u001b[22m\u001b[0m\u001b[1mt\u001b[22m\u001b[0m\u001b[1mo\u001b[22m\u001b[0m\u001b[1mr\u001b[22m\u001b[0m\u001b[1mi\u001b[22mz\u001b[0m\u001b[1ma\u001b[22mtion QR\u001b[0m\u001b[1mF\u001b[22m\u001b[0m\u001b[1ma\u001b[22m\u001b[0m\u001b[1mc\u001b[22m\u001b[0m\u001b[1mt\u001b[22m\u001b[0m\u001b[1mo\u001b[22m\u001b[0m\u001b[1mr\u001b[22m\u001b[0m\u001b[1mi\u001b[22mz\u001b[0m\u001b[1ma\u001b[22mtion\n",
      "\n"
     ]
    },
    {
     "data": {
      "text/latex": [
       "\\begin{verbatim}\n",
       "factorial(n::Integer)\n",
       "\\end{verbatim}\n",
       "Factorial of \\texttt{n}. If \\texttt{n} is an \\href{@ref}{\\texttt{Integer}}, the factorial is computed as an integer (promoted to at least 64 bits). Note that this may overflow if \\texttt{n} is not small, but you can use \\texttt{factorial(big(n))} to compute the result exactly in arbitrary precision.\n",
       "\n",
       "See also \\href{@ref}{\\texttt{binomial}}.\n",
       "\n",
       "\\section{Examples}\n",
       "\\begin{verbatim}\n",
       "julia> factorial(6)\n",
       "720\n",
       "\n",
       "julia> factorial(21)\n",
       "ERROR: OverflowError: 21 is too large to look up in the table; consider using `factorial(big(21))` instead\n",
       "Stacktrace:\n",
       "[...]\n",
       "\n",
       "julia> factorial(big(21))\n",
       "51090942171709440000\n",
       "\\end{verbatim}\n",
       "\\section{External links}\n",
       "\\begin{itemize}\n",
       "\\item \\href{https://en.wikipedia.org/wiki/Factorial}{Factorial} on Wikipedia.\n",
       "\n",
       "\\end{itemize}\n"
      ],
      "text/markdown": [
       "```\n",
       "factorial(n::Integer)\n",
       "```\n",
       "\n",
       "Factorial of `n`. If `n` is an [`Integer`](@ref), the factorial is computed as an integer (promoted to at least 64 bits). Note that this may overflow if `n` is not small, but you can use `factorial(big(n))` to compute the result exactly in arbitrary precision.\n",
       "\n",
       "See also [`binomial`](@ref).\n",
       "\n",
       "# Examples\n",
       "\n",
       "```jldoctest\n",
       "julia> factorial(6)\n",
       "720\n",
       "\n",
       "julia> factorial(21)\n",
       "ERROR: OverflowError: 21 is too large to look up in the table; consider using `factorial(big(21))` instead\n",
       "Stacktrace:\n",
       "[...]\n",
       "\n",
       "julia> factorial(big(21))\n",
       "51090942171709440000\n",
       "```\n",
       "\n",
       "# External links\n",
       "\n",
       "  * [Factorial](https://en.wikipedia.org/wiki/Factorial) on Wikipedia.\n"
      ],
      "text/plain": [
       "\u001b[36m  factorial(n::Integer)\u001b[39m\n",
       "\n",
       "  Factorial of \u001b[36mn\u001b[39m. If \u001b[36mn\u001b[39m is an \u001b[36mInteger\u001b[39m, the factorial is computed as an integer\n",
       "  (promoted to at least 64 bits). Note that this may overflow if \u001b[36mn\u001b[39m is not\n",
       "  small, but you can use \u001b[36mfactorial(big(n))\u001b[39m to compute the result exactly in\n",
       "  arbitrary precision.\n",
       "\n",
       "  See also \u001b[36mbinomial\u001b[39m.\n",
       "\n",
       "\u001b[1m  Examples\u001b[22m\n",
       "\u001b[1m  ≡≡≡≡≡≡≡≡≡≡\u001b[22m\n",
       "\n",
       "\u001b[36m  julia> factorial(6)\u001b[39m\n",
       "\u001b[36m  720\u001b[39m\n",
       "\u001b[36m  \u001b[39m\n",
       "\u001b[36m  julia> factorial(21)\u001b[39m\n",
       "\u001b[36m  ERROR: OverflowError: 21 is too large to look up in the table; consider using `factorial(big(21))` instead\u001b[39m\n",
       "\u001b[36m  Stacktrace:\u001b[39m\n",
       "\u001b[36m  [...]\u001b[39m\n",
       "\u001b[36m  \u001b[39m\n",
       "\u001b[36m  julia> factorial(big(21))\u001b[39m\n",
       "\u001b[36m  51090942171709440000\u001b[39m\n",
       "\n",
       "\u001b[1m  External links\u001b[22m\n",
       "\u001b[1m  ≡≡≡≡≡≡≡≡≡≡≡≡≡≡≡≡\u001b[22m\n",
       "\n",
       "    •  Factorial (https://en.wikipedia.org/wiki/Factorial) on Wikipedia."
      ]
     },
     "execution_count": 110,
     "metadata": {},
     "output_type": "execute_result"
    }
   ],
   "source": [
    "? factorial"
   ]
  },
  {
   "cell_type": "code",
   "execution_count": 111,
   "id": "de21d585-02b2-4447-9cbd-3deec67672ce",
   "metadata": {},
   "outputs": [
    {
     "name": "stdout",
     "output_type": "stream",
     "text": [
      "search: \u001b[0m\u001b[1mb\u001b[22m\u001b[0m\u001b[1mi\u001b[22m\u001b[0m\u001b[1mg\u001b[22m \u001b[0m\u001b[1mB\u001b[22m\u001b[0m\u001b[1mi\u001b[22m\u001b[0m\u001b[1mg\u001b[22mInt \u001b[0m\u001b[1mB\u001b[22m\u001b[0m\u001b[1mi\u001b[22m\u001b[0m\u001b[1mg\u001b[22mFloat \u001b[0m\u001b[1mb\u001b[22m\u001b[0m\u001b[1mi\u001b[22m\u001b[0m\u001b[1mg\u001b[22m\"\" @\u001b[0m\u001b[1mb\u001b[22m\u001b[0m\u001b[1mi\u001b[22m\u001b[0m\u001b[1mg\u001b[22m_str \u001b[0m\u001b[1mB\u001b[22m\u001b[0m\u001b[1mi\u001b[22mdia\u001b[0m\u001b[1mg\u001b[22monal KrylovJL_\u001b[0m\u001b[1mB\u001b[22m\u001b[0m\u001b[1mI\u001b[22mC\u001b[0m\u001b[1mG\u001b[22mSTAB\n",
      "\n"
     ]
    },
    {
     "data": {
      "text/latex": [
       "\\begin{verbatim}\n",
       "big(T::Type)\n",
       "\\end{verbatim}\n",
       "Compute the type that represents the numeric type \\texttt{T} with arbitrary precision. Equivalent to \\texttt{typeof(big(zero(T)))}.\n",
       "\n",
       "\\section{Examples}\n",
       "\\begin{verbatim}\n",
       "julia> big(Rational)\n",
       "Rational{BigInt}\n",
       "\n",
       "julia> big(Float64)\n",
       "BigFloat\n",
       "\n",
       "julia> big(Complex{Int})\n",
       "Complex{BigInt}\n",
       "\\end{verbatim}\n",
       "\\rule{\\textwidth}{1pt}\n",
       "\\begin{verbatim}\n",
       "big(x)\n",
       "\\end{verbatim}\n",
       "Convert a number to a maximum precision representation (typically \\href{@ref}{\\texttt{BigInt}} or \\texttt{BigFloat}). See \\href{@ref BigFloat(::Any, rounding::RoundingMode)}{\\texttt{BigFloat}} for information about some pitfalls with floating-point numbers.\n",
       "\n"
      ],
      "text/markdown": [
       "```\n",
       "big(T::Type)\n",
       "```\n",
       "\n",
       "Compute the type that represents the numeric type `T` with arbitrary precision. Equivalent to `typeof(big(zero(T)))`.\n",
       "\n",
       "# Examples\n",
       "\n",
       "```jldoctest\n",
       "julia> big(Rational)\n",
       "Rational{BigInt}\n",
       "\n",
       "julia> big(Float64)\n",
       "BigFloat\n",
       "\n",
       "julia> big(Complex{Int})\n",
       "Complex{BigInt}\n",
       "```\n",
       "\n",
       "---\n",
       "\n",
       "```\n",
       "big(x)\n",
       "```\n",
       "\n",
       "Convert a number to a maximum precision representation (typically [`BigInt`](@ref) or `BigFloat`). See [`BigFloat`](@ref BigFloat(::Any, rounding::RoundingMode)) for information about some pitfalls with floating-point numbers.\n"
      ],
      "text/plain": [
       "\u001b[36m  big(T::Type)\u001b[39m\n",
       "\n",
       "  Compute the type that represents the numeric type \u001b[36mT\u001b[39m with arbitrary\n",
       "  precision. Equivalent to \u001b[36mtypeof(big(zero(T)))\u001b[39m.\n",
       "\n",
       "\u001b[1m  Examples\u001b[22m\n",
       "\u001b[1m  ≡≡≡≡≡≡≡≡≡≡\u001b[22m\n",
       "\n",
       "\u001b[36m  julia> big(Rational)\u001b[39m\n",
       "\u001b[36m  Rational{BigInt}\u001b[39m\n",
       "\u001b[36m  \u001b[39m\n",
       "\u001b[36m  julia> big(Float64)\u001b[39m\n",
       "\u001b[36m  BigFloat\u001b[39m\n",
       "\u001b[36m  \u001b[39m\n",
       "\u001b[36m  julia> big(Complex{Int})\u001b[39m\n",
       "\u001b[36m  Complex{BigInt}\u001b[39m\n",
       "\n",
       "  ────────────────────────────────────────────────────────────────────────────\n",
       "\n",
       "\u001b[36m  big(x)\u001b[39m\n",
       "\n",
       "  Convert a number to a maximum precision representation (typically \u001b[36mBigInt\u001b[39m or\n",
       "  \u001b[36mBigFloat\u001b[39m). See \u001b[36mBigFloat\u001b[39m for information about some pitfalls with\n",
       "  floating-point numbers."
      ]
     },
     "execution_count": 111,
     "metadata": {},
     "output_type": "execute_result"
    }
   ],
   "source": [
    "? big"
   ]
  },
  {
   "cell_type": "code",
   "execution_count": null,
   "id": "9fc147f0-a761-4590-8568-b854a4cf2afa",
   "metadata": {},
   "outputs": [],
   "source": []
  }
 ],
 "metadata": {
  "kernelspec": {
   "display_name": "Julia 1.9.1",
   "language": "julia",
   "name": "julia-1.9"
  },
  "language_info": {
   "file_extension": ".jl",
   "mimetype": "application/julia",
   "name": "julia",
   "version": "1.9.1"
  }
 },
 "nbformat": 4,
 "nbformat_minor": 5
}
