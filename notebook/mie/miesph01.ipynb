{
 "cells": [
  {
   "cell_type": "code",
   "execution_count": 1,
   "id": "b0c4d4c0-ba60-44e1-ac5f-11c864232cfb",
   "metadata": {},
   "outputs": [
    {
     "name": "stderr",
     "output_type": "stream",
     "text": [
      "\u001b[32m\u001b[1m  Activating\u001b[22m\u001b[39m project at `~/Documents/repos/nanoOpt.jl`\n"
     ]
    }
   ],
   "source": [
    "using Pkg\n",
    "Pkg.activate(\"../..\")"
   ]
  },
  {
   "cell_type": "code",
   "execution_count": 2,
   "id": "d25efd15-0ade-4dde-b9de-82a86b50c937",
   "metadata": {},
   "outputs": [
    {
     "data": {
      "text/plain": [
       "Plots.PlotlyBackend()"
      ]
     },
     "execution_count": 2,
     "metadata": {},
     "output_type": "execute_result"
    }
   ],
   "source": [
    "using Measures,LazyGrids,SpecialFunctions,LaTeXStrings,Plots; plotly()"
   ]
  },
  {
   "cell_type": "code",
   "execution_count": 3,
   "id": "085f8a5e-5e32-4e0d-8da3-0efa799a39ab",
   "metadata": {},
   "outputs": [
    {
     "data": {
      "text/plain": [
       "KsspSlab (generic function with 1 method)"
      ]
     },
     "execution_count": 3,
     "metadata": {},
     "output_type": "execute_result"
    }
   ],
   "source": [
    "include(\"../../src/NanoOpt.jl\")"
   ]
  },
  {
   "cell_type": "code",
   "execution_count": 229,
   "id": "c8992689-9e5c-46f2-b420-2ee715033683",
   "metadata": {},
   "outputs": [
    {
     "data": {
      "text/plain": [
       "sphtable (generic function with 2 methods)"
      ]
     },
     "execution_count": 229,
     "metadata": {},
     "output_type": "execute_result"
    }
   ],
   "source": [
    "function sphere(n::Int64)\n",
    "    θ = LinRange(0,π,n)\n",
    "    ϕ = LinRange(-π,π,n)\n",
    "    \n",
    "    xA =  cos.(ϕ)*sin.(θ)'\n",
    "    yA =  sin.(ϕ)*sin.(θ)'\n",
    "    zA =  ones(n)*cos.(θ)'\n",
    "    \n",
    "    xA,yA,zA\n",
    "end\n",
    "\n",
    "#function sphtable(lmax::Int64,key::String=\"\")\n",
    "#    mtab = Vector{Matrix{Int64}}(undef,0)\n",
    "#    ltab = Vector{Matrix{Int64}}(undef,0)\n",
    "\n",
    "#    push!(ltab,[0;;]); push!(mtab,[0;;])\n",
    "#    for l ∈ 1:lmax\n",
    "#        if key == \"z\"\n",
    "#            m = Matrix(reshape(-1:1,(:,1)))\n",
    "#        else\n",
    "#            m = Matrix(reshape(-l:l,(:,1)))\n",
    "#        end\n",
    "#        push!(ltab,Matrix(l*ones(length(m))'))\n",
    "#        push!(mtab,m)\n",
    "#    end\n",
    "#    ltab,mtab\n",
    "#end\n",
    "\n",
    "function sphtable(lmax::Int64,key::String=\"\")\n",
    "    mtab = Vector{Int64}(undef,0)\n",
    "    ltab = Vector{Int64}(undef,0)\n",
    "\n",
    "    push!(ltab,0); push!(mtab,0)\n",
    "    for l ∈ 1:lmax\n",
    "        if key == \"z\"\n",
    "            m = collect(-1:1)\n",
    "        else\n",
    "            m = collect(-l:l)\n",
    "        end\n",
    "        ltab=vcat(ltab,l*ones(Int64,length(m)))\n",
    "        mtab = vcat(mtab,m)\n",
    "    end\n",
    "    ltab,mtab\n",
    "end"
   ]
  },
  {
   "cell_type": "code",
   "execution_count": 230,
   "id": "97eda82d-9787-4554-9be9-bc8c0d2edfca",
   "metadata": {},
   "outputs": [],
   "source": [
    "lmax = 4\n",
    "key=\"\";"
   ]
  },
  {
   "cell_type": "code",
   "execution_count": 231,
   "id": "88dd5a75-2740-4eea-a1a5-1a888629c346",
   "metadata": {},
   "outputs": [],
   "source": [
    "ltab,mtab = sphtable(3)\n",
    "x,y,z = sphere(40);"
   ]
  },
  {
   "cell_type": "code",
   "execution_count": 232,
   "id": "9bbb34d2-2002-491c-aa07-0480c441aff3",
   "metadata": {},
   "outputs": [],
   "source": [
    "ϕ = Matrix{Float64}(undef, size(x))\n",
    "θ = Matrix{Float64}(undef, size(x));\n",
    "\n",
    "for i ∈ axes(x,1)\n",
    "    for j ∈ axes(x,2)\n",
    "        _,θ[i,j],ϕ[i,j] = cart2sph(x[i,j],y[i,j],z[i,j])\n",
    "    end\n",
    "end\n",
    "θ = 0.5*π.-θ;"
   ]
  },
  {
   "cell_type": "code",
   "execution_count": 244,
   "id": "9fc147f0-a761-4590-8568-b854a4cf2afa",
   "metadata": {},
   "outputs": [],
   "source": [
    "ltabA,mtabA = reshape(ltab,(:,1)),reshape(mtab,(:,1))\n",
    "θA,ϕA = reshape(θ,(1,:)),reshape(ϕ,(1,:))\n",
    "\n",
    "ftab = factorial.(0:(2*maximum(ltab)+1))\n",
    "y = zeros(length(ϕA),length(θA));"
   ]
  },
  {
   "cell_type": "code",
   "execution_count": 245,
   "id": "0262633d-2330-4b52-83a4-6e8bb8e59e17",
   "metadata": {},
   "outputs": [
    {
     "data": {
      "text/plain": [
       "1600×1600 Matrix{Float64}:\n",
       " 0.0  0.0  0.0  0.0  0.0  0.0  0.0  0.0  …  0.0  0.0  0.0  0.0  0.0  0.0  0.0\n",
       " 0.0  0.0  0.0  0.0  0.0  0.0  0.0  0.0     0.0  0.0  0.0  0.0  0.0  0.0  0.0\n",
       " 0.0  0.0  0.0  0.0  0.0  0.0  0.0  0.0     0.0  0.0  0.0  0.0  0.0  0.0  0.0\n",
       " 0.0  0.0  0.0  0.0  0.0  0.0  0.0  0.0     0.0  0.0  0.0  0.0  0.0  0.0  0.0\n",
       " 0.0  0.0  0.0  0.0  0.0  0.0  0.0  0.0     0.0  0.0  0.0  0.0  0.0  0.0  0.0\n",
       " 0.0  0.0  0.0  0.0  0.0  0.0  0.0  0.0  …  0.0  0.0  0.0  0.0  0.0  0.0  0.0\n",
       " 0.0  0.0  0.0  0.0  0.0  0.0  0.0  0.0     0.0  0.0  0.0  0.0  0.0  0.0  0.0\n",
       " 0.0  0.0  0.0  0.0  0.0  0.0  0.0  0.0     0.0  0.0  0.0  0.0  0.0  0.0  0.0\n",
       " 0.0  0.0  0.0  0.0  0.0  0.0  0.0  0.0     0.0  0.0  0.0  0.0  0.0  0.0  0.0\n",
       " 0.0  0.0  0.0  0.0  0.0  0.0  0.0  0.0     0.0  0.0  0.0  0.0  0.0  0.0  0.0\n",
       " 0.0  0.0  0.0  0.0  0.0  0.0  0.0  0.0  …  0.0  0.0  0.0  0.0  0.0  0.0  0.0\n",
       " 0.0  0.0  0.0  0.0  0.0  0.0  0.0  0.0     0.0  0.0  0.0  0.0  0.0  0.0  0.0\n",
       " 0.0  0.0  0.0  0.0  0.0  0.0  0.0  0.0     0.0  0.0  0.0  0.0  0.0  0.0  0.0\n",
       " ⋮                        ⋮              ⋱            ⋮                   \n",
       " 0.0  0.0  0.0  0.0  0.0  0.0  0.0  0.0     0.0  0.0  0.0  0.0  0.0  0.0  0.0\n",
       " 0.0  0.0  0.0  0.0  0.0  0.0  0.0  0.0     0.0  0.0  0.0  0.0  0.0  0.0  0.0\n",
       " 0.0  0.0  0.0  0.0  0.0  0.0  0.0  0.0  …  0.0  0.0  0.0  0.0  0.0  0.0  0.0\n",
       " 0.0  0.0  0.0  0.0  0.0  0.0  0.0  0.0     0.0  0.0  0.0  0.0  0.0  0.0  0.0\n",
       " 0.0  0.0  0.0  0.0  0.0  0.0  0.0  0.0     0.0  0.0  0.0  0.0  0.0  0.0  0.0\n",
       " 0.0  0.0  0.0  0.0  0.0  0.0  0.0  0.0     0.0  0.0  0.0  0.0  0.0  0.0  0.0\n",
       " 0.0  0.0  0.0  0.0  0.0  0.0  0.0  0.0     0.0  0.0  0.0  0.0  0.0  0.0  0.0\n",
       " 0.0  0.0  0.0  0.0  0.0  0.0  0.0  0.0  …  0.0  0.0  0.0  0.0  0.0  0.0  0.0\n",
       " 0.0  0.0  0.0  0.0  0.0  0.0  0.0  0.0     0.0  0.0  0.0  0.0  0.0  0.0  0.0\n",
       " 0.0  0.0  0.0  0.0  0.0  0.0  0.0  0.0     0.0  0.0  0.0  0.0  0.0  0.0  0.0\n",
       " 0.0  0.0  0.0  0.0  0.0  0.0  0.0  0.0     0.0  0.0  0.0  0.0  0.0  0.0  0.0\n",
       " 0.0  0.0  0.0  0.0  0.0  0.0  0.0  0.0     0.0  0.0  0.0  0.0  0.0  0.0  0.0"
      ]
     },
     "execution_count": 245,
     "metadata": {},
     "output_type": "execute_result"
    }
   ],
   "source": []
  },
  {
   "cell_type": "code",
   "execution_count": 206,
   "id": "e72d0128-5913-4129-85c4-1cea7cf670aa",
   "metadata": {},
   "outputs": [
    {
     "data": {
      "text/plain": [
       "3×1 reshape(::UnitRange{Int64}, 3, 1) with eltype Int64:\n",
       " -1\n",
       "  0\n",
       "  1"
      ]
     },
     "execution_count": 206,
     "metadata": {},
     "output_type": "execute_result"
    }
   ],
   "source": [
    "reshape(-1:1,(:,1))"
   ]
  },
  {
   "cell_type": "code",
   "execution_count": 207,
   "id": "6afdd64c-8fea-4102-9a82-5a30ddb55b94",
   "metadata": {},
   "outputs": [
    {
     "data": {
      "text/plain": [
       "3-element Vector{Int64}:\n",
       " -1\n",
       "  0\n",
       "  1"
      ]
     },
     "execution_count": 207,
     "metadata": {},
     "output_type": "execute_result"
    }
   ],
   "source": [
    "collect(-1:1)"
   ]
  },
  {
   "cell_type": "code",
   "execution_count": null,
   "id": "bf4a58f7-3a7b-414e-af7b-72423f1dd02f",
   "metadata": {},
   "outputs": [],
   "source": []
  }
 ],
 "metadata": {
  "kernelspec": {
   "display_name": "Julia 1.9.1",
   "language": "julia",
   "name": "julia-1.9"
  },
  "language_info": {
   "file_extension": ".jl",
   "mimetype": "application/julia",
   "name": "julia",
   "version": "1.9.1"
  }
 },
 "nbformat": 4,
 "nbformat_minor": 5
}
