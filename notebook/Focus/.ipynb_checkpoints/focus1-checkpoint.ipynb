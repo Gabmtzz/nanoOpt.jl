{
 "cells": [
  {
   "cell_type": "code",
   "execution_count": 1,
   "metadata": {},
   "outputs": [
    {
     "name": "stderr",
     "output_type": "stream",
     "text": [
      "\u001b[32m\u001b[1m  Activating\u001b[22m\u001b[39m environment at `~/Documents/repos/nanoOpt.jl/Project.toml`\n"
     ]
    }
   ],
   "source": [
    "using Pkg\n",
    "Pkg.activate(\"../..\")"
   ]
  },
  {
   "cell_type": "code",
   "execution_count": 10,
   "metadata": {},
   "outputs": [
    {
     "data": {
      "text/plain": [
       "Plots.PyPlotBackend()"
      ]
     },
     "execution_count": 10,
     "metadata": {},
     "output_type": "execute_result"
    }
   ],
   "source": [
    "using LazyGrids,Plots; pyplot()"
   ]
  },
  {
   "cell_type": "code",
   "execution_count": 11,
   "metadata": {},
   "outputs": [
    {
     "data": {
      "text/plain": [
       "efieldC (generic function with 2 methods)"
      ]
     },
     "execution_count": 11,
     "metadata": {},
     "output_type": "execute_result"
    }
   ],
   "source": [
    "include(\"../../src/NanoOpt.jl\")"
   ]
  },
  {
   "cell_type": "code",
   "execution_count": 29,
   "metadata": {},
   "outputs": [],
   "source": [
    "struct lensfocus <: Field\n",
    "    mat::MaterialParams\n",
    "    k0::Number\n",
    "    NA::Number\n",
    "    x::Vector{Number}\n",
    "    y::Vector{Number}\n",
    "    rad::Number\n",
    "    ϕ::Vector{Number}\n",
    "    θ::Vector{Number}\n",
    "    ρ::Vector{Number}\n",
    "    \n",
    "    function lensfocus(mat::MaterialParams,k0::Number,NA::Number)\n",
    "        nrad,nphi = 51,51\n",
    "        \n",
    "        n = mat.n(k₀)\n",
    "        θ = asin(NA/n)\n",
    "        rad = sin(θ)\n",
    "        ϕa = collect(range(0,2π,length=nphi))\n",
    "        θa = collect(range(0,θ,length=nrad))\n",
    "        ρa = sin.(θa)\n",
    "        \n",
    "        ϕm,ρm = ndgrid(ϕa,ρa)\n",
    "        ϕm,ρm = ϕm[:],ρm[:]\n",
    "        xa,ya = zeros(length(ϕm)),zeros(length(ϕm))\n",
    "\n",
    "        for i ∈ eachindex(xa)\n",
    "            xa[i],ya[i] = pol2cart(ϕm[i],ρm[i])\n",
    "        end\n",
    "        \n",
    "        new(mat,k0,NA,xa,ya,rad,ϕa,θa,ρa)\n",
    "    end\n",
    "end"
   ]
  },
  {
   "cell_type": "code",
   "execution_count": 127,
   "metadata": {},
   "outputs": [
    {
     "data": {
      "text/plain": [
       "lglnodes (generic function with 1 method)"
      ]
     },
     "execution_count": 127,
     "metadata": {},
     "output_type": "execute_result"
    }
   ],
   "source": [
    "function pol2cart(θ::Number,ρ::Number)\n",
    "    x = ρ*cos(θ)\n",
    "    y = ρ*sin(θ)\n",
    "    \n",
    "    return(x,y)\n",
    "end\n",
    "\n",
    "function pol2cart(θ::Number,ρ::Number,z::Number)\n",
    "    x = ρ*cos(θ)\n",
    "    y = ρ*sin(θ)\n",
    "    \n",
    "    return(x,y,z)\n",
    "end\n",
    "\n",
    "function cart2pol(x::Number,y::Number)\n",
    "    θ = atan(y,x)\n",
    "    ρ = sqrt(x^2+y^2)\n",
    "    \n",
    "    return(θ,ρ)\n",
    "end\n",
    "\n",
    "function cart2pol(x::Number,y::Number,z::Number)\n",
    "    θ = atan(y,x)\n",
    "    ρ = sqrt(x^2+y^2)\n",
    "    \n",
    "    return(θ,ρ,z)\n",
    "end\n",
    "\n",
    "function lglnodes(N)\n",
    "    N1=N+1\n",
    "    \n",
    "    x = cos.(π*(0:N)/N)\n",
    "    P = zeros(N1,N1)\n",
    "    xold=2;\n",
    "    ε = 1e-6\n",
    "    \n",
    "    while maximum(abs.(x.-xold))> ε\n",
    "        xold=x\n",
    "        P[:,1] .= 1; P[:,2] = x\n",
    "    \n",
    "        for k in 2:N\n",
    "            P[:,k+1] = ((2*k-1)*x.*P[:,k]-(k-1)*P[:,k-1])/k\n",
    "        end\n",
    "        x = xold .-(x.*P[:,N1].-P[:,N]) ./ (N1*P[:,N1])\n",
    "    \n",
    "    end\n",
    "\n",
    "    w = 2 ./ (N*N1*P[:,N1].^2)\n",
    "    \n",
    "    x,w,P\n",
    "end"
   ]
  },
  {
   "cell_type": "code",
   "execution_count": 31,
   "metadata": {},
   "outputs": [],
   "source": [
    "mat = material(1.33^2,1.0)\n",
    "\n",
    "λ = 620\n",
    "k₀ = 2π/λ\n",
    "NA = 1.0\n",
    "lens = lensfocus(mat,k₀,NA);"
   ]
  },
  {
   "cell_type": "code",
   "execution_count": 43,
   "metadata": {},
   "outputs": [
    {
     "data": {
      "text/plain": [
       "-500.0:16.666666666666668:500.0"
      ]
     },
     "execution_count": 43,
     "metadata": {},
     "output_type": "execute_result"
    }
   ],
   "source": [
    "w₀ = 0.75*lens.rad\n",
    "pos = 500*range(-1,1,length=61)"
   ]
  },
  {
   "cell_type": "code",
   "execution_count": 108,
   "metadata": {},
   "outputs": [],
   "source": [
    "x,y = ndgrid(pos,pos);"
   ]
  },
  {
   "cell_type": "code",
   "execution_count": 110,
   "metadata": {},
   "outputs": [],
   "source": [
    "z = 0.0\n",
    "z = z*ones(size(x));"
   ]
  },
  {
   "cell_type": "code",
   "execution_count": 128,
   "metadata": {},
   "outputs": [],
   "source": [
    "nquad = 101\n",
    "k0,n = lens.k0,lens.mat.n(lens.k0)\n",
    "tmax = asin(lens.NA/lens.mat.n(k0))\n",
    "t,w,_ = lglnodes(nquad)\n",
    "t,w = 0.5*(t.+1)*tmax, 0.5*w*tmax;"
   ]
  },
  {
   "cell_type": "code",
   "execution_count": 134,
   "metadata": {},
   "outputs": [],
   "source": [
    "ϕa,ρa = zeros(size(z)),zeros(size(z))\n",
    "\n",
    "for i in axes(ϕa,1)\n",
    "    for j in axes(ϕa,2)\n",
    "        ϕa[i,j],ρa[i,j] = cart2pol(x[i,j],y[i,j])\n",
    "    end\n",
    "end"
   ]
  },
  {
   "cell_type": "code",
   "execution_count": 136,
   "metadata": {},
   "outputs": [
    {
     "data": {
      "text/plain": [
       "61×61 Matrix{Float64}:\n",
       " 707.107  695.422  683.943  672.681  …  672.681  683.943  695.422  707.107\n",
       " 695.422  683.537  671.855  660.387     660.387  671.855  683.537  695.422\n",
       " 683.943  671.855  659.966  648.288     648.288  659.966  671.855  683.943\n",
       " 672.681  660.387  648.288  636.396     636.396  648.288  660.387  672.681\n",
       " 661.648  649.145  636.832  624.722     624.722  636.832  649.145  661.648\n",
       " 650.854  638.14   625.611  613.279  …  613.279  625.611  638.14   650.854\n",
       " 640.312  627.384  614.636  602.08      602.08   614.636  627.384  640.312\n",
       " 630.035  616.892  603.922  591.138     591.138  603.922  616.892  630.035\n",
       " 620.036  606.676  593.483  580.469     580.469  593.483  606.676  620.036\n",
       " 610.328  596.75   583.333  570.088     570.088  583.333  596.75   610.328\n",
       " 600.925  587.13   573.488  560.01   …  560.01   573.488  587.13   600.925\n",
       " 591.843  577.831  563.964  550.252     550.252  563.964  577.831  591.843\n",
       " 583.095  568.868  554.777  540.833     540.833  554.777  568.868  583.095\n",
       "   ⋮                                 ⋱                               ⋮\n",
       " 591.843  577.831  563.964  550.252     550.252  563.964  577.831  591.843\n",
       " 600.925  587.13   573.488  560.01   …  560.01   573.488  587.13   600.925\n",
       " 610.328  596.75   583.333  570.088     570.088  583.333  596.75   610.328\n",
       " 620.036  606.676  593.483  580.469     580.469  593.483  606.676  620.036\n",
       " 630.035  616.892  603.922  591.138     591.138  603.922  616.892  630.035\n",
       " 640.312  627.384  614.636  602.08      602.08   614.636  627.384  640.312\n",
       " 650.854  638.14   625.611  613.279  …  613.279  625.611  638.14   650.854\n",
       " 661.648  649.145  636.832  624.722     624.722  636.832  649.145  661.648\n",
       " 672.681  660.387  648.288  636.396     636.396  648.288  660.387  672.681\n",
       " 683.943  671.855  659.966  648.288     648.288  659.966  671.855  683.943\n",
       " 695.422  683.537  671.855  660.387     660.387  671.855  683.537  695.422\n",
       " 707.107  695.422  683.943  672.681  …  672.681  683.943  695.422  707.107"
      ]
     },
     "execution_count": 136,
     "metadata": {},
     "output_type": "execute_result"
    }
   ],
   "source": [
    "ρa"
   ]
  },
  {
   "cell_type": "code",
   "execution_count": null,
   "metadata": {},
   "outputs": [],
   "source": []
  }
 ],
 "metadata": {
  "kernelspec": {
   "display_name": "Julia 1.6.7",
   "language": "julia",
   "name": "julia-1.6"
  },
  "language_info": {
   "file_extension": ".jl",
   "mimetype": "application/julia",
   "name": "julia",
   "version": "1.6.7"
  }
 },
 "nbformat": 4,
 "nbformat_minor": 2
}
