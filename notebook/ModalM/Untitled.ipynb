{
 "cells": [
  {
   "cell_type": "code",
   "execution_count": 1,
   "id": "bd3badcd-81e5-4430-a4fd-033c52a9fa73",
   "metadata": {},
   "outputs": [
    {
     "name": "stderr",
     "output_type": "stream",
     "text": [
      "\u001b[32m\u001b[1m  Activating\u001b[22m\u001b[39m project at `~/Documents/repos/nanoOpt.jl`\n"
     ]
    }
   ],
   "source": [
    "using Pkg\n",
    "Pkg.activate(\"../..\")"
   ]
  },
  {
   "cell_type": "code",
   "execution_count": 2,
   "id": "2e1a3843-5471-4a8e-91a7-80a4e1565be8",
   "metadata": {},
   "outputs": [],
   "source": [
    "using Measures,LinearAlgebra,LazyGrids,LaTeXStrings,QuadGK,Plots"
   ]
  },
  {
   "cell_type": "code",
   "execution_count": 3,
   "id": "c9d3e727-8d2f-456c-9bf9-59602d6cb11b",
   "metadata": {},
   "outputs": [
    {
     "data": {
      "text/plain": [
       "KsspSlab (generic function with 1 method)"
      ]
     },
     "execution_count": 3,
     "metadata": {},
     "output_type": "execute_result"
    }
   ],
   "source": [
    "include(\"../../src/NanoOpt.jl\")"
   ]
  },
  {
   "cell_type": "code",
   "execution_count": 4,
   "id": "9a82414b-f1ca-4de6-8312-e11650c7e39b",
   "metadata": {},
   "outputs": [],
   "source": [
    "mat1 = material(1.0^2,1.0)\n",
    "mat2 = material(1.452^2,1.0);"
   ]
  },
  {
   "cell_type": "code",
   "execution_count": 5,
   "id": "d448cb4a-37e6-4c75-976b-83eb21e3ac56",
   "metadata": {},
   "outputs": [
    {
     "data": {
      "text/plain": [
       "MaterialParams(var\"#15#20\"{MaterialFunc}(MaterialFunc(var\"#5#11\"{Float64}(2.108304), var\"#6#12\"{Float64}(1.0))), var\"#16#21\"{MaterialFunc}(MaterialFunc(var\"#5#11\"{Float64}(2.108304), var\"#6#12\"{Float64}(1.0))), var\"#17#22\"{MaterialFunc}(MaterialFunc(var\"#5#11\"{Float64}(2.108304), var\"#6#12\"{Float64}(1.0))), var\"#18#23\"{MaterialFunc}(MaterialFunc(var\"#5#11\"{Float64}(2.108304), var\"#6#12\"{Float64}(1.0))), var\"#19#24\"{MaterialFunc}(MaterialFunc(var\"#5#11\"{Float64}(2.108304), var\"#6#12\"{Float64}(1.0))))"
      ]
     },
     "execution_count": 5,
     "metadata": {},
     "output_type": "execute_result"
    }
   ],
   "source": [
    "mat2"
   ]
  },
  {
   "cell_type": "code",
   "execution_count": null,
   "id": "3c4b3060-0684-4832-bb9f-88af7867bd45",
   "metadata": {},
   "outputs": [],
   "source": []
  }
 ],
 "metadata": {
  "kernelspec": {
   "display_name": "Julia 1.9.1",
   "language": "julia",
   "name": "julia-1.9"
  },
  "language_info": {
   "file_extension": ".jl",
   "mimetype": "application/julia",
   "name": "julia",
   "version": "1.9.1"
  }
 },
 "nbformat": 4,
 "nbformat_minor": 5
}
