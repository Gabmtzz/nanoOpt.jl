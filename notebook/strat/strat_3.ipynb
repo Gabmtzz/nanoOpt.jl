{
 "cells": [
  {
   "cell_type": "code",
   "execution_count": 1,
   "metadata": {},
   "outputs": [
    {
     "name": "stderr",
     "output_type": "stream",
     "text": [
      "\u001b[32m\u001b[1m  Activating\u001b[22m\u001b[39m project at `~/Documents/repos/nanoOpt.jl`\n"
     ]
    }
   ],
   "source": [
    "using Pkg\n",
    "Pkg.activate(\"../..\")"
   ]
  },
  {
   "cell_type": "code",
   "execution_count": 2,
   "metadata": {},
   "outputs": [
    {
     "data": {
      "text/plain": [
       "Plots.PyPlotBackend()"
      ]
     },
     "metadata": {},
     "output_type": "display_data"
    }
   ],
   "source": [
    "using LazyGrids,Interpolations,DataFrames,CSV,SpecialFunctions,Measures,LaTeXStrings,Plots; pyplot()"
   ]
  },
  {
   "cell_type": "code",
   "execution_count": 3,
   "metadata": {},
   "outputs": [
    {
     "data": {
      "text/plain": [
       "zsqrt (generic function with 1 method)"
      ]
     },
     "metadata": {},
     "output_type": "display_data"
    }
   ],
   "source": [
    "include(\"../../src/NanoOpt.jl\")"
   ]
  },
  {
   "cell_type": "code",
   "execution_count": 116,
   "metadata": {},
   "outputs": [],
   "source": [
    "mat1 = material(1.0,1.0)\n",
    "mat2 = material(epstable(\"gold\"),1.0)\n",
    "λ = 620.0\n",
    "k₀ = 2π/λ\n",
    "layer = layerstructure([mat2,mat1],[0.0,],\"down\");"
   ]
  },
  {
   "cell_type": "code",
   "execution_count": 117,
   "metadata": {},
   "outputs": [],
   "source": [
    "green = greenreflect(layer);"
   ]
  },
  {
   "cell_type": "code",
   "execution_count": 118,
   "metadata": {},
   "outputs": [],
   "source": [
    "n = 600\n",
    "\n",
    "z = collect(LinRange(10,2000,n))\n",
    "\n",
    "pos2 = [0*z 0*z z]\n",
    "pos1 = pos2;"
   ]
  },
  {
   "cell_type": "code",
   "execution_count": 119,
   "metadata": {},
   "outputs": [
    {
     "data": {
      "text/plain": [
       "0.010134169850289655"
      ]
     },
     "metadata": {},
     "output_type": "display_data"
    }
   ],
   "source": [
    "k0 = k₀"
   ]
  },
  {
   "cell_type": "code",
   "execution_count": 120,
   "metadata": {},
   "outputs": [],
   "source": [
    "green.k0 = k0\n",
    "z1,zn = green.layer.z[1],green.layer.z[end]\n",
    "\n",
    "k = [green.layer.mat[i].k(k0) for i ∈ eachindex(green.layer.mat)]\n",
    "green.k1,green.kn,kmax = k[1],k[end],maximum(real.(k))\n",
    "\n",
    "cVal = cart2pol.(pos1[:,1] - pos2[:,1],pos1[:,2] - pos2[:,2])\n",
    "ϕ,ρ = first.(cVal),last.(cVal)\n",
    "z,zp = pos1[:,3],pos1[:,3];"
   ]
  },
  {
   "cell_type": "code",
   "execution_count": 121,
   "metadata": {},
   "outputs": [],
   "source": [
    "ind1 = z .> zn .&& zp .> zn .&& (z + zp .- 2zn) .≥ green.ratio*ρ; Index1 = findall(ind1)\n",
    "ind2 = z .> zn .&& zp .> zn .&& (z + zp .- 2zn) .< green.ratio*ρ; Index2 = findall(ind2)\n",
    "ind3 = z .< z1 .&& zp .> zn; Index3 = findall(ind3)\n",
    "\n",
    "g = zeros(size(pos1,1),9)*im;"
   ]
  },
  {
   "cell_type": "code",
   "execution_count": 122,
   "metadata": {},
   "outputs": [],
   "source": [
    "green.ρ,green.ϕ,green.z,green.zp = ρ[ind1],ϕ[ind1],z[ind1],zp[ind1];"
   ]
  },
  {
   "cell_type": "code",
   "execution_count": 144,
   "metadata": {},
   "outputs": [
    {
     "data": {
      "text/plain": [
       "\"bessel\""
      ]
     },
     "metadata": {},
     "output_type": "display_data"
    }
   ],
   "source": [
    "kr = [1e-2,]\n",
    "kz = green.kn\n",
    "mode = \"bessel\""
   ]
  },
  {
   "cell_type": "code",
   "execution_count": 149,
   "metadata": {},
   "outputs": [
    {
     "data": {
      "text/plain": [
       "600×9 Matrix{ComplexF64}:\n",
       " -0.0386515-0.00579182im  0.0+0.0im  …  0.0+0.0im  -0.0448006+0.0580673im\n",
       " -0.0385859-0.00621357im  0.0+0.0im     0.0+0.0im  -0.0454321+0.0575746im\n",
       " -0.0385158-0.00663457im  0.0+0.0im     0.0+0.0im  -0.0460581+0.057075im\n",
       "  -0.038441-0.00705479im  0.0+0.0im     0.0+0.0im  -0.0466787+0.0565687im\n",
       " -0.0383617-0.00747416im  0.0+0.0im     0.0+0.0im  -0.0472936+0.0560555im\n",
       " -0.0382778-0.00789264im  0.0+0.0im  …  0.0+0.0im   -0.047903+0.0555357im\n",
       " -0.0381893-0.00831019im  0.0+0.0im     0.0+0.0im  -0.0485066+0.0550093im\n",
       " -0.0380963-0.00872674im  0.0+0.0im     0.0+0.0im  -0.0491044+0.0544763im\n",
       " -0.0379987-0.00914224im  0.0+0.0im     0.0+0.0im  -0.0496964+0.0539368im\n",
       " -0.0378966-0.00955666im  0.0+0.0im     0.0+0.0im  -0.0502825+0.0533909im\n",
       "           ⋮                         ⋱             \n",
       " -0.0371028-0.0122827im   0.0+0.0im     0.0+0.0im  -0.0540259+0.0495995im\n",
       " -0.0369664-0.0126872im   0.0+0.0im     0.0+0.0im  -0.0545644+0.0490065im\n",
       " -0.0368257-0.0130901im   0.0+0.0im     0.0+0.0im  -0.0550963+0.0484077im\n",
       " -0.0366805-0.0134915im   0.0+0.0im     0.0+0.0im  -0.0556216+0.0478032im\n",
       "  -0.036531-0.0138912im   0.0+0.0im  …  0.0+0.0im  -0.0561404+0.0471929im\n",
       " -0.0363771-0.0142894im   0.0+0.0im     0.0+0.0im  -0.0566524+0.046577im\n",
       " -0.0362189-0.0146858im   0.0+0.0im     0.0+0.0im  -0.0571576+0.0459556im\n",
       " -0.0360564-0.0150804im   0.0+0.0im     0.0+0.0im  -0.0576561+0.0453286im\n",
       " -0.0358895-0.0154733im   0.0+0.0im     0.0+0.0im  -0.0581477+0.0446963im"
      ]
     },
     "metadata": {},
     "output_type": "display_data"
    }
   ],
   "source": [
    "ifun1(green,kr,mode)"
   ]
  },
  {
   "cell_type": "code",
   "execution_count": 146,
   "metadata": {},
   "outputs": [
    {
     "data": {
      "text/plain": [
       "600-element Vector{ComplexF64}:\n",
       " 0.07953448132395963 + 0.0026153887234649244im\n",
       " 0.07950117734576916 + 0.0034837879215979663im\n",
       " 0.07945839201260425 + 0.004351771641230649im\n",
       " 0.07940613042706775 + 0.005219236366138025im\n",
       " 0.07934439882190561 + 0.006086078641990747im\n",
       " 0.07927320455926368 + 0.006952195088693089im\n",
       " 0.07919255612980962 + 0.007817482412712119im\n",
       " 0.07910246315172036 + 0.008681837419396543im\n",
       " 0.07900293636953495 + 0.009545157025283744im\n",
       " 0.07889398765287321 + 0.010407338270393604im\n",
       "                     ⋮\n",
       "  0.0779302295157926 + 0.016107554291760067im\n",
       " 0.07774968020038048 + 0.016957629739579618im\n",
       " 0.07755985841452527 + 0.017805682810970874im\n",
       "  0.0773607867964796 + 0.018651612366649094im\n",
       " 0.07715248908763618 + 0.019495317520581496im\n",
       " 0.07693499012969654 + 0.020336697652018346im\n",
       " 0.07670831586170833 + 0.021175652417493463im\n",
       " 0.07647249331697183 + 0.022012081762791322im\n",
       "  0.0762275506198159 + 0.02284588593487933im"
      ]
     },
     "metadata": {},
     "output_type": "display_data"
    }
   ],
   "source": []
  },
  {
   "cell_type": "code",
   "execution_count": 131,
   "metadata": {},
   "outputs": [
    {
     "data": {
      "text/plain": [
       "600×9 Matrix{ComplexF64}:\n",
       " 5843.51+135.098im  -0.0+0.0im  0.0+0.0im  …  0.0+0.0im  11688.2+270.224im\n",
       " 5843.51+135.098im  -0.0+0.0im  0.0+0.0im     0.0+0.0im  11688.2+270.224im\n",
       " 5843.51+135.098im  -0.0+0.0im  0.0+0.0im     0.0+0.0im  11688.2+270.224im\n",
       " 5843.51+135.098im  -0.0+0.0im  0.0+0.0im     0.0+0.0im  11688.2+270.224im\n",
       " 5843.51+135.098im  -0.0+0.0im  0.0+0.0im     0.0+0.0im  11688.2+270.224im\n",
       " 5843.51+135.098im  -0.0+0.0im  0.0+0.0im  …  0.0+0.0im  11688.2+270.224im\n",
       " 5843.51+135.098im  -0.0+0.0im  0.0+0.0im     0.0+0.0im  11688.2+270.224im\n",
       " 5843.51+135.098im  -0.0+0.0im  0.0+0.0im     0.0+0.0im  11688.2+270.224im\n",
       " 5843.51+135.098im  -0.0+0.0im  0.0+0.0im     0.0+0.0im  11688.2+270.224im\n",
       " 5843.51+135.098im  -0.0+0.0im  0.0+0.0im     0.0+0.0im  11688.2+270.224im\n",
       "        ⋮                                  ⋱             \n",
       " 5843.51+135.098im  -0.0+0.0im  0.0+0.0im     0.0+0.0im  11688.2+270.224im\n",
       " 5843.51+135.098im  -0.0+0.0im  0.0+0.0im     0.0+0.0im  11688.2+270.224im\n",
       " 5843.51+135.098im  -0.0+0.0im  0.0+0.0im     0.0+0.0im  11688.2+270.224im\n",
       " 5843.51+135.098im  -0.0+0.0im  0.0+0.0im     0.0+0.0im  11688.2+270.224im\n",
       " 5843.51+135.098im  -0.0+0.0im  0.0+0.0im  …  0.0+0.0im  11688.2+270.224im\n",
       " 5843.51+135.098im  -0.0+0.0im  0.0+0.0im     0.0+0.0im  11688.2+270.224im\n",
       " 5843.51+135.098im  -0.0+0.0im  0.0+0.0im     0.0+0.0im  11688.2+270.224im\n",
       " 5843.51+135.098im  -0.0+0.0im  0.0+0.0im     0.0+0.0im  11688.2+270.224im\n",
       " 5843.51+135.098im  -0.0+0.0im  0.0+0.0im     0.0+0.0im  11688.2+270.224im"
      ]
     },
     "metadata": {},
     "output_type": "display_data"
    }
   ],
   "source": []
  },
  {
   "cell_type": "code",
   "execution_count": 110,
   "metadata": {},
   "outputs": [
    {
     "data": {
      "text/plain": [
       "600×9 Matrix{ComplexF64}:\n",
       " 0.999897+0.0im  -0.0+0.0im  -0.0-0.0im  …  0.0+0.0im  0.0+0.0im  2.0+0.0im\n",
       " 0.999897+0.0im  -0.0+0.0im  -0.0-0.0im     0.0+0.0im  0.0+0.0im  2.0+0.0im\n",
       " 0.999897+0.0im  -0.0+0.0im  -0.0-0.0im     0.0+0.0im  0.0+0.0im  2.0+0.0im\n",
       " 0.999897+0.0im  -0.0+0.0im  -0.0-0.0im     0.0+0.0im  0.0+0.0im  2.0+0.0im\n",
       " 0.999897+0.0im  -0.0+0.0im  -0.0-0.0im     0.0+0.0im  0.0+0.0im  2.0+0.0im\n",
       " 0.999897+0.0im  -0.0+0.0im  -0.0-0.0im  …  0.0+0.0im  0.0+0.0im  2.0+0.0im\n",
       " 0.999897+0.0im  -0.0+0.0im  -0.0-0.0im     0.0+0.0im  0.0+0.0im  2.0+0.0im\n",
       " 0.999897+0.0im  -0.0+0.0im  -0.0-0.0im     0.0+0.0im  0.0+0.0im  2.0+0.0im\n",
       " 0.999897+0.0im  -0.0+0.0im  -0.0-0.0im     0.0+0.0im  0.0+0.0im  2.0+0.0im\n",
       " 0.999897+0.0im  -0.0+0.0im  -0.0-0.0im     0.0+0.0im  0.0+0.0im  2.0+0.0im\n",
       "         ⋮                               ⋱                        \n",
       " 0.999897+0.0im  -0.0+0.0im  -0.0-0.0im     0.0+0.0im  0.0+0.0im  2.0+0.0im\n",
       " 0.999897+0.0im  -0.0+0.0im  -0.0-0.0im     0.0+0.0im  0.0+0.0im  2.0+0.0im\n",
       " 0.999897+0.0im  -0.0+0.0im  -0.0-0.0im     0.0+0.0im  0.0+0.0im  2.0+0.0im\n",
       " 0.999897+0.0im  -0.0+0.0im  -0.0-0.0im     0.0+0.0im  0.0+0.0im  2.0+0.0im\n",
       " 0.999897+0.0im  -0.0+0.0im  -0.0-0.0im  …  0.0+0.0im  0.0+0.0im  2.0+0.0im\n",
       " 0.999897+0.0im  -0.0+0.0im  -0.0-0.0im     0.0+0.0im  0.0+0.0im  2.0+0.0im\n",
       " 0.999897+0.0im  -0.0+0.0im  -0.0-0.0im     0.0+0.0im  0.0+0.0im  2.0+0.0im\n",
       " 0.999897+0.0im  -0.0+0.0im  -0.0-0.0im     0.0+0.0im  0.0+0.0im  2.0+0.0im\n",
       " 0.999897+0.0im  -0.0+0.0im  -0.0-0.0im     0.0+0.0im  0.0+0.0im  2.0+0.0im"
      ]
     },
     "metadata": {},
     "output_type": "display_data"
    }
   ],
   "source": [
    "tm"
   ]
  },
  {
   "cell_type": "code",
   "execution_count": null,
   "metadata": {},
   "outputs": [],
   "source": []
  }
 ],
 "metadata": {
  "kernelspec": {
   "display_name": "Julia 1.9.1",
   "language": "julia",
   "name": "julia-1.9"
  },
  "language_info": {
   "file_extension": ".jl",
   "mimetype": "application/julia",
   "name": "julia",
   "version": "1.9.1"
  },
  "orig_nbformat": 4
 },
 "nbformat": 4,
 "nbformat_minor": 2
}
