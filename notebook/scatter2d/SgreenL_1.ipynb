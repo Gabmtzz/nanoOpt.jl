{
 "cells": [
  {
   "cell_type": "code",
   "execution_count": 1,
   "id": "a2627953-e355-49a4-a6a5-68be052dad1d",
   "metadata": {},
   "outputs": [
    {
     "name": "stderr",
     "output_type": "stream",
     "text": [
      "\u001b[32m\u001b[1m  Activating\u001b[22m\u001b[39m project at `~/Documents/repos/nanoOpt.jl`\n"
     ]
    }
   ],
   "source": [
    "using Pkg\n",
    "Pkg.activate(\"../..\")"
   ]
  },
  {
   "cell_type": "code",
   "execution_count": 2,
   "id": "743e51c2-72f8-4a9f-bc5c-0201a2a8df72",
   "metadata": {},
   "outputs": [],
   "source": [
    "using Measures,LinearAlgebra,LazyGrids,LaTeXStrings,QuadGK,Plots"
   ]
  },
  {
   "cell_type": "code",
   "execution_count": 3,
   "id": "62877026-5e39-4b07-abdd-763080f9e684",
   "metadata": {},
   "outputs": [],
   "source": [
    "using FastGaussQuadrature"
   ]
  },
  {
   "cell_type": "code",
   "execution_count": 4,
   "id": "a53b1a0a-1f33-4035-9b2d-cd2ec21dd2c2",
   "metadata": {},
   "outputs": [],
   "source": [
    "using TimerOutputs"
   ]
  },
  {
   "cell_type": "code",
   "execution_count": 5,
   "id": "5532a2ad-063a-41cc-9568-e7d91439ecf1",
   "metadata": {},
   "outputs": [],
   "source": [
    "const to = TimerOutput();"
   ]
  },
  {
   "cell_type": "code",
   "execution_count": 6,
   "id": "3e07a47d-ab11-4df8-a365-508930bda5d6",
   "metadata": {},
   "outputs": [
    {
     "data": {
      "text/plain": [
       "KsspSlab (generic function with 1 method)"
      ]
     },
     "execution_count": 6,
     "metadata": {},
     "output_type": "execute_result"
    }
   ],
   "source": [
    "include(\"../../src/NanoOpt.jl\")"
   ]
  },
  {
   "cell_type": "code",
   "execution_count": 7,
   "id": "4404f04b-2621-4f60-8883-91401392bab5",
   "metadata": {},
   "outputs": [],
   "source": [
    "mat1 = material(1.0^2,1.0)\n",
    "matSc = material(epstable(\"gold\"),1.0)\n",
    "mat2 = material(1.452^2,1.0);"
   ]
  },
  {
   "cell_type": "code",
   "execution_count": 8,
   "id": "1b17a248-5618-4be6-b892-5d9c52d00ca7",
   "metadata": {},
   "outputs": [],
   "source": [
    "matScatter = [mat1; matSc];"
   ]
  },
  {
   "cell_type": "code",
   "execution_count": 9,
   "id": "2c6810e2-4df4-4e61-88e0-42c718c45a46",
   "metadata": {},
   "outputs": [],
   "source": [
    "layer = layerstructure([mat1,mat2],[0.0,],\"up\");"
   ]
  },
  {
   "cell_type": "code",
   "execution_count": 10,
   "id": "9f56c664-dcc7-4497-aa25-18a36f34ce2f",
   "metadata": {
    "tags": []
   },
   "outputs": [],
   "source": [
    "w,d = 150.,17.\n",
    "rc = 2.\n",
    "Nc,Nw,Nd = 3,30,5\n",
    "xC = (0.,d/2. +0.);"
   ]
  },
  {
   "cell_type": "code",
   "execution_count": 11,
   "id": "1d3b4cb3-c124-4631-b7c5-2b166cd5f36b",
   "metadata": {},
   "outputs": [],
   "source": [
    "rod = Rod(w,d,rc,Nc,Nw,Nd,xC);"
   ]
  },
  {
   "cell_type": "code",
   "execution_count": 12,
   "id": "fb26f369-a576-45b3-9ed4-3ecdf81b959b",
   "metadata": {},
   "outputs": [
    {
     "data": {
      "image/png": "[encoded data removed]",
      "image/svg+xml": [
       "<?xml version=\"1.0\" encoding=\"utf-8\"?>\n",
       "<svg xmlns=\"http://www.w3.org/2000/svg\" xmlns:xlink=\"http://www.w3.org/1999/xlink\" width=\"600\" height=\"400\" viewBox=\"0 0 2400 1600\">\n",
       "<defs>\n",
       "  <clipPath id=\"clip530\">\n",
       "    <rect x=\"0\" y=\"0\" width=\"2400\" height=\"1600\"/>\n",
       "  </clipPath>\n",
       "</defs>\n",
       "<path clip-path=\"url(#clip530)\" d=\"M0 1600 L2400 1600 L2400 0 L0 0  Z\" fill=\"#ffffff\" fill-rule=\"evenodd\" fill-opacity=\"1\"/>\n",
       "<defs>\n",
       "  <clipPath id=\"clip531\">\n",
       "    <rect x=\"480\" y=\"0\" width=\"1681\" height=\"1600\"/>\n",
       "  </clipPath>\n",
       "</defs>\n",
       "<path clip-path=\"url(#clip530)\" d=\"M138.959 1486.45 L2352.76 1486.45 L2352.76 47.2441 L138.959 47.2441  Z\" fill=\"#ffffff\" fill-rule=\"evenodd\" fill-opacity=\"1\"/>\n",
       "<defs>\n",
       "  <clipPath id=\"clip532\">\n",
       "    <rect x=\"138\" y=\"47\" width=\"2215\" height=\"1440\"/>\n",
       "  </clipPath>\n",
       "</defs>\n",
       "<polyline clip-path=\"url(#clip532)\" style=\"stroke:#000000; stroke-linecap:round; stroke-linejoin:round; stroke-width:2; stroke-opacity:0.1; fill:none\" points=\"410.463,1486.45 410.463,47.2441 \"/>\n",
       "<polyline clip-path=\"url(#clip532)\" style=\"stroke:#000000; stroke-linecap:round; stroke-linejoin:round; stroke-width:2; stroke-opacity:0.1; fill:none\" points=\"688.928,1486.45 688.928,47.2441 \"/>\n",
       "<polyline clip-path=\"url(#clip532)\" style=\"stroke:#000000; stroke-linecap:round; stroke-linejoin:round; stroke-width:2; stroke-opacity:0.1; fill:none\" points=\"967.393,1486.45 967.393,47.2441 \"/>\n",
       "<polyline clip-path=\"url(#clip532)\" style=\"stroke:#000000; stroke-linecap:round; stroke-linejoin:round; stroke-width:2; stroke-opacity:0.1; fill:none\" points=\"1245.86,1486.45 1245.86,47.2441 \"/>\n",
       "<polyline clip-path=\"url(#clip532)\" style=\"stroke:#000000; stroke-linecap:round; stroke-linejoin:round; stroke-width:2; stroke-opacity:0.1; fill:none\" points=\"1524.32,1486.45 1524.32,47.2441 \"/>\n",
       "<polyline clip-path=\"url(#clip532)\" style=\"stroke:#000000; stroke-linecap:round; stroke-linejoin:round; stroke-width:2; stroke-opacity:0.1; fill:none\" points=\"1802.79,1486.45 1802.79,47.2441 \"/>\n",
       "<polyline clip-path=\"url(#clip532)\" style=\"stroke:#000000; stroke-linecap:round; stroke-linejoin:round; stroke-width:2; stroke-opacity:0.1; fill:none\" points=\"2081.25,1486.45 2081.25,47.2441 \"/>\n",
       "<polyline clip-path=\"url(#clip530)\" style=\"stroke:#000000; stroke-linecap:round; stroke-linejoin:round; stroke-width:4; stroke-opacity:1; fill:none\" points=\"138.959,1486.45 2352.76,1486.45 \"/>\n",
       "<polyline clip-path=\"url(#clip530)\" style=\"stroke:#000000; stroke-linecap:round; stroke-linejoin:round; stroke-width:4; stroke-opacity:1; fill:none\" points=\"410.463,1486.45 410.463,1467.55 \"/>\n",
       "<polyline clip-path=\"url(#clip530)\" style=\"stroke:#000000; stroke-linecap:round; stroke-linejoin:round; stroke-width:4; stroke-opacity:1; fill:none\" points=\"688.928,1486.45 688.928,1467.55 \"/>\n",
       "<polyline clip-path=\"url(#clip530)\" style=\"stroke:#000000; stroke-linecap:round; stroke-linejoin:round; stroke-width:4; stroke-opacity:1; fill:none\" points=\"967.393,1486.45 967.393,1467.55 \"/>\n",
       "<polyline clip-path=\"url(#clip530)\" style=\"stroke:#000000; stroke-linecap:round; stroke-linejoin:round; stroke-width:4; stroke-opacity:1; fill:none\" points=\"1245.86,1486.45 1245.86,1467.55 \"/>\n",
       "<polyline clip-path=\"url(#clip530)\" style=\"stroke:#000000; stroke-linecap:round; stroke-linejoin:round; stroke-width:4; stroke-opacity:1; fill:none\" points=\"1524.32,1486.45 1524.32,1467.55 \"/>\n",
       "<polyline clip-path=\"url(#clip530)\" style=\"stroke:#000000; stroke-linecap:round; stroke-linejoin:round; stroke-width:4; stroke-opacity:1; fill:none\" points=\"1802.79,1486.45 1802.79,1467.55 \"/>\n",
       "<polyline clip-path=\"url(#clip530)\" style=\"stroke:#000000; stroke-linecap:round; stroke-linejoin:round; stroke-width:4; stroke-opacity:1; fill:none\" points=\"2081.25,1486.45 2081.25,1467.55 \"/>\n",
       "<path clip-path=\"url(#clip530)\" d=\"M364.526 1532.02 L394.201 1532.02 L394.201 1535.95 L364.526 1535.95 L364.526 1532.02 Z\" fill=\"#000000\" fill-rule=\"nonzero\" fill-opacity=\"1\" /><path clip-path=\"url(#clip530)\" d=\"M414.872 1529.7 Q411.724 1529.7 409.873 1531.86 Q408.044 1534.01 408.044 1537.76 Q408.044 1541.49 409.873 1543.66 Q411.724 1545.82 414.872 1545.82 Q418.021 1545.82 419.849 1543.66 Q421.701 1541.49 421.701 1537.76 Q421.701 1534.01 419.849 1531.86 Q418.021 1529.7 414.872 1529.7 M424.155 1515.05 L424.155 1519.31 Q422.396 1518.48 420.59 1518.04 Q418.808 1517.6 417.048 1517.6 Q412.419 1517.6 409.965 1520.72 Q407.535 1523.85 407.187 1530.17 Q408.553 1528.15 410.613 1527.09 Q412.673 1526 415.15 1526 Q420.359 1526 423.368 1529.17 Q426.4 1532.32 426.4 1537.76 Q426.4 1543.08 423.252 1546.3 Q420.104 1549.52 414.872 1549.52 Q408.877 1549.52 405.706 1544.94 Q402.535 1540.33 402.535 1531.6 Q402.535 1523.41 406.423 1518.55 Q410.312 1513.66 416.863 1513.66 Q418.622 1513.66 420.405 1514.01 Q422.21 1514.36 424.155 1515.05 Z\" fill=\"#000000\" fill-rule=\"nonzero\" fill-opacity=\"1\" /><path clip-path=\"url(#clip530)\" d=\"M444.456 1517.37 Q440.845 1517.37 439.016 1520.93 Q437.21 1524.47 437.21 1531.6 Q437.21 1538.71 439.016 1542.27 Q440.845 1545.82 444.456 1545.82 Q448.09 1545.82 449.895 1542.27 Q451.724 1538.71 451.724 1531.6 Q451.724 1524.47 449.895 1520.93 Q448.09 1517.37 444.456 1517.37 M444.456 1513.66 Q450.266 1513.66 453.321 1518.27 Q456.4 1522.85 456.4 1531.6 Q456.4 1540.33 453.321 1544.94 Q450.266 1549.52 444.456 1549.52 Q438.645 1549.52 435.567 1544.94 Q432.511 1540.33 432.511 1531.6 Q432.511 1522.85 435.567 1518.27 Q438.645 1513.66 444.456 1513.66 Z\" fill=\"#000000\" fill-rule=\"nonzero\" fill-opacity=\"1\" /><path clip-path=\"url(#clip530)\" d=\"M642.99 1532.02 L672.666 1532.02 L672.666 1535.95 L642.99 1535.95 L642.99 1532.02 Z\" fill=\"#000000\" fill-rule=\"nonzero\" fill-opacity=\"1\" /><path clip-path=\"url(#clip530)\" d=\"M695.606 1518.36 L683.8 1536.81 L695.606 1536.81 L695.606 1518.36 M694.379 1514.29 L700.259 1514.29 L700.259 1536.81 L705.189 1536.81 L705.189 1540.7 L700.259 1540.7 L700.259 1548.85 L695.606 1548.85 L695.606 1540.7 L680.004 1540.7 L680.004 1536.19 L694.379 1514.29 Z\" fill=\"#000000\" fill-rule=\"nonzero\" fill-opacity=\"1\" /><path clip-path=\"url(#clip530)\" d=\"M722.921 1517.37 Q719.31 1517.37 717.481 1520.93 Q715.675 1524.47 715.675 1531.6 Q715.675 1538.71 717.481 1542.27 Q719.31 1545.82 722.921 1545.82 Q726.555 1545.82 728.36 1542.27 Q730.189 1538.71 730.189 1531.6 Q730.189 1524.47 728.36 1520.93 Q726.555 1517.37 722.921 1517.37 M722.921 1513.66 Q728.731 1513.66 731.786 1518.27 Q734.865 1522.85 734.865 1531.6 Q734.865 1540.33 731.786 1544.94 Q728.731 1549.52 722.921 1549.52 Q717.11 1549.52 714.032 1544.94 Q710.976 1540.33 710.976 1531.6 Q710.976 1522.85 714.032 1518.27 Q717.11 1513.66 722.921 1513.66 Z\" fill=\"#000000\" fill-rule=\"nonzero\" fill-opacity=\"1\" /><path clip-path=\"url(#clip530)\" d=\"M921.455 1532.02 L951.131 1532.02 L951.131 1535.95 L921.455 1535.95 L921.455 1532.02 Z\" fill=\"#000000\" fill-rule=\"nonzero\" fill-opacity=\"1\" /><path clip-path=\"url(#clip530)\" d=\"M965.252 1544.91 L981.571 1544.91 L981.571 1548.85 L959.627 1548.85 L959.627 1544.91 Q962.289 1542.16 966.872 1537.53 Q971.478 1532.88 972.659 1531.53 Q974.904 1529.01 975.784 1527.27 Q976.687 1525.51 976.687 1523.82 Q976.687 1521.07 974.742 1519.33 Q972.821 1517.6 969.719 1517.6 Q967.52 1517.6 965.066 1518.36 Q962.636 1519.13 959.858 1520.68 L959.858 1515.95 Q962.682 1514.82 965.136 1514.24 Q967.589 1513.66 969.626 1513.66 Q974.997 1513.66 978.191 1516.35 Q981.386 1519.03 981.386 1523.52 Q981.386 1525.65 980.576 1527.57 Q979.788 1529.47 977.682 1532.07 Q977.103 1532.74 974.001 1535.95 Q970.9 1539.15 965.252 1544.91 Z\" fill=\"#000000\" fill-rule=\"nonzero\" fill-opacity=\"1\" /><path clip-path=\"url(#clip530)\" d=\"M1001.39 1517.37 Q997.774 1517.37 995.946 1520.93 Q994.14 1524.47 994.14 1531.6 Q994.14 1538.71 995.946 1542.27 Q997.774 1545.82 1001.39 1545.82 Q1005.02 1545.82 1006.83 1542.27 Q1008.65 1538.71 1008.65 1531.6 Q1008.65 1524.47 1006.83 1520.93 Q1005.02 1517.37 1001.39 1517.37 M1001.39 1513.66 Q1007.2 1513.66 1010.25 1518.27 Q1013.33 1522.85 1013.33 1531.6 Q1013.33 1540.33 1010.25 1544.94 Q1007.2 1549.52 1001.39 1549.52 Q995.575 1549.52 992.497 1544.94 Q989.441 1540.33 989.441 1531.6 Q989.441 1522.85 992.497 1518.27 Q995.575 1513.66 1001.39 1513.66 Z\" fill=\"#000000\" fill-rule=\"nonzero\" fill-opacity=\"1\" /><path clip-path=\"url(#clip530)\" d=\"M1245.86 1517.37 Q1242.25 1517.37 1240.42 1520.93 Q1238.61 1524.47 1238.61 1531.6 Q1238.61 1538.71 1240.42 1542.27 Q1242.25 1545.82 1245.86 1545.82 Q1249.49 1545.82 1251.3 1542.27 Q1253.13 1538.71 1253.13 1531.6 Q1253.13 1524.47 1251.3 1520.93 Q1249.49 1517.37 1245.86 1517.37 M1245.86 1513.66 Q1251.67 1513.66 1254.72 1518.27 Q1257.8 1522.85 1257.8 1531.6 Q1257.8 1540.33 1254.72 1544.94 Q1251.67 1549.52 1245.86 1549.52 Q1240.05 1549.52 1236.97 1544.94 Q1233.91 1540.33 1233.91 1531.6 Q1233.91 1522.85 1236.97 1518.27 Q1240.05 1513.66 1245.86 1513.66 Z\" fill=\"#000000\" fill-rule=\"nonzero\" fill-opacity=\"1\" /><path clip-path=\"url(#clip530)\" d=\"M1503.1 1544.91 L1519.42 1544.91 L1519.42 1548.85 L1497.47 1548.85 L1497.47 1544.91 Q1500.13 1542.16 1504.72 1537.53 Q1509.32 1532.88 1510.5 1531.53 Q1512.75 1529.01 1513.63 1527.27 Q1514.53 1525.51 1514.53 1523.82 Q1514.53 1521.07 1512.59 1519.33 Q1510.67 1517.6 1507.56 1517.6 Q1505.36 1517.6 1502.91 1518.36 Q1500.48 1519.13 1497.7 1520.68 L1497.7 1515.95 Q1500.53 1514.82 1502.98 1514.24 Q1505.43 1513.66 1507.47 1513.66 Q1512.84 1513.66 1516.04 1516.35 Q1519.23 1519.03 1519.23 1523.52 Q1519.23 1525.65 1518.42 1527.57 Q1517.63 1529.47 1515.53 1532.07 Q1514.95 1532.74 1511.85 1535.95 Q1508.74 1539.15 1503.1 1544.91 Z\" fill=\"#000000\" fill-rule=\"nonzero\" fill-opacity=\"1\" /><path clip-path=\"url(#clip530)\" d=\"M1539.23 1517.37 Q1535.62 1517.37 1533.79 1520.93 Q1531.98 1524.47 1531.98 1531.6 Q1531.98 1538.71 1533.79 1542.27 Q1535.62 1545.82 1539.23 1545.82 Q1542.86 1545.82 1544.67 1542.27 Q1546.5 1538.71 1546.5 1531.6 Q1546.5 1524.47 1544.67 1520.93 Q1542.86 1517.37 1539.23 1517.37 M1539.23 1513.66 Q1545.04 1513.66 1548.1 1518.27 Q1551.17 1522.85 1551.17 1531.6 Q1551.17 1540.33 1548.1 1544.94 Q1545.04 1549.52 1539.23 1549.52 Q1533.42 1549.52 1530.34 1544.94 Q1527.29 1540.33 1527.29 1531.6 Q1527.29 1522.85 1530.34 1518.27 Q1533.42 1513.66 1539.23 1513.66 Z\" fill=\"#000000\" fill-rule=\"nonzero\" fill-opacity=\"1\" /><path clip-path=\"url(#clip530)\" d=\"M1790.96 1518.36 L1779.15 1536.81 L1790.96 1536.81 L1790.96 1518.36 M1789.73 1514.29 L1795.61 1514.29 L1795.61 1536.81 L1800.54 1536.81 L1800.54 1540.7 L1795.61 1540.7 L1795.61 1548.85 L1790.96 1548.85 L1790.96 1540.7 L1775.36 1540.7 L1775.36 1536.19 L1789.73 1514.29 Z\" fill=\"#000000\" fill-rule=\"nonzero\" fill-opacity=\"1\" /><path clip-path=\"url(#clip530)\" d=\"M1818.27 1517.37 Q1814.66 1517.37 1812.83 1520.93 Q1811.03 1524.47 1811.03 1531.6 Q1811.03 1538.71 1812.83 1542.27 Q1814.66 1545.82 1818.27 1545.82 Q1821.91 1545.82 1823.71 1542.27 Q1825.54 1538.71 1825.54 1531.6 Q1825.54 1524.47 1823.71 1520.93 Q1821.91 1517.37 1818.27 1517.37 M1818.27 1513.66 Q1824.08 1513.66 1827.14 1518.27 Q1830.22 1522.85 1830.22 1531.6 Q1830.22 1540.33 1827.14 1544.94 Q1824.08 1549.52 1818.27 1549.52 Q1812.46 1549.52 1809.38 1544.94 Q1806.33 1540.33 1806.33 1531.6 Q1806.33 1522.85 1809.38 1518.27 Q1812.46 1513.66 1818.27 1513.66 Z\" fill=\"#000000\" fill-rule=\"nonzero\" fill-opacity=\"1\" /><path clip-path=\"url(#clip530)\" d=\"M2066.66 1529.7 Q2063.51 1529.7 2061.66 1531.86 Q2059.83 1534.01 2059.83 1537.76 Q2059.83 1541.49 2061.66 1543.66 Q2063.51 1545.82 2066.66 1545.82 Q2069.81 1545.82 2071.63 1543.66 Q2073.49 1541.49 2073.49 1537.76 Q2073.49 1534.01 2071.63 1531.86 Q2069.81 1529.7 2066.66 1529.7 M2075.94 1515.05 L2075.94 1519.31 Q2074.18 1518.48 2072.38 1518.04 Q2070.59 1517.6 2068.83 1517.6 Q2064.2 1517.6 2061.75 1520.72 Q2059.32 1523.85 2058.97 1530.17 Q2060.34 1528.15 2062.4 1527.09 Q2064.46 1526 2066.94 1526 Q2072.14 1526 2075.15 1529.17 Q2078.19 1532.32 2078.19 1537.76 Q2078.19 1543.08 2075.04 1546.3 Q2071.89 1549.52 2066.66 1549.52 Q2060.66 1549.52 2057.49 1544.94 Q2054.32 1540.33 2054.32 1531.6 Q2054.32 1523.41 2058.21 1518.55 Q2062.1 1513.66 2068.65 1513.66 Q2070.41 1513.66 2072.19 1514.01 Q2074 1514.36 2075.94 1515.05 Z\" fill=\"#000000\" fill-rule=\"nonzero\" fill-opacity=\"1\" /><path clip-path=\"url(#clip530)\" d=\"M2096.24 1517.37 Q2092.63 1517.37 2090.8 1520.93 Q2089 1524.47 2089 1531.6 Q2089 1538.71 2090.8 1542.27 Q2092.63 1545.82 2096.24 1545.82 Q2099.88 1545.82 2101.68 1542.27 Q2103.51 1538.71 2103.51 1531.6 Q2103.51 1524.47 2101.68 1520.93 Q2099.88 1517.37 2096.24 1517.37 M2096.24 1513.66 Q2102.05 1513.66 2105.11 1518.27 Q2108.19 1522.85 2108.19 1531.6 Q2108.19 1540.33 2105.11 1544.94 Q2102.05 1549.52 2096.24 1549.52 Q2090.43 1549.52 2087.35 1544.94 Q2084.3 1540.33 2084.3 1531.6 Q2084.3 1522.85 2087.35 1518.27 Q2090.43 1513.66 2096.24 1513.66 Z\" fill=\"#000000\" fill-rule=\"nonzero\" fill-opacity=\"1\" /><polyline clip-path=\"url(#clip532)\" style=\"stroke:#000000; stroke-linecap:round; stroke-linejoin:round; stroke-width:2; stroke-opacity:0.1; fill:none\" points=\"138.959,1445.72 2352.76,1445.72 \"/>\n",
       "<polyline clip-path=\"url(#clip532)\" style=\"stroke:#000000; stroke-linecap:round; stroke-linejoin:round; stroke-width:2; stroke-opacity:0.1; fill:none\" points=\"138.959,1046.38 2352.76,1046.38 \"/>\n",
       "<polyline clip-path=\"url(#clip532)\" style=\"stroke:#000000; stroke-linecap:round; stroke-linejoin:round; stroke-width:2; stroke-opacity:0.1; fill:none\" points=\"138.959,647.045 2352.76,647.045 \"/>\n",
       "<polyline clip-path=\"url(#clip532)\" style=\"stroke:#000000; stroke-linecap:round; stroke-linejoin:round; stroke-width:2; stroke-opacity:0.1; fill:none\" points=\"138.959,247.71 2352.76,247.71 \"/>\n",
       "<polyline clip-path=\"url(#clip530)\" style=\"stroke:#000000; stroke-linecap:round; stroke-linejoin:round; stroke-width:4; stroke-opacity:1; fill:none\" points=\"138.959,1486.45 138.959,47.2441 \"/>\n",
       "<polyline clip-path=\"url(#clip530)\" style=\"stroke:#000000; stroke-linecap:round; stroke-linejoin:round; stroke-width:4; stroke-opacity:1; fill:none\" points=\"138.959,1445.72 157.857,1445.72 \"/>\n",
       "<polyline clip-path=\"url(#clip530)\" style=\"stroke:#000000; stroke-linecap:round; stroke-linejoin:round; stroke-width:4; stroke-opacity:1; fill:none\" points=\"138.959,1046.38 157.857,1046.38 \"/>\n",
       "<polyline clip-path=\"url(#clip530)\" style=\"stroke:#000000; stroke-linecap:round; stroke-linejoin:round; stroke-width:4; stroke-opacity:1; fill:none\" points=\"138.959,647.045 157.857,647.045 \"/>\n",
       "<polyline clip-path=\"url(#clip530)\" style=\"stroke:#000000; stroke-linecap:round; stroke-linejoin:round; stroke-width:4; stroke-opacity:1; fill:none\" points=\"138.959,247.71 157.857,247.71 \"/>\n",
       "<path clip-path=\"url(#clip530)\" d=\"M91.0151 1431.51 Q87.404 1431.51 85.5753 1435.08 Q83.7697 1438.62 83.7697 1445.75 Q83.7697 1452.86 85.5753 1456.42 Q87.404 1459.96 91.0151 1459.96 Q94.6493 1459.96 96.4548 1456.42 Q98.2835 1452.86 98.2835 1445.75 Q98.2835 1438.62 96.4548 1435.08 Q94.6493 1431.51 91.0151 1431.51 M91.0151 1427.81 Q96.8252 1427.81 99.8808 1432.42 Q102.959 1437 102.959 1445.75 Q102.959 1454.48 99.8808 1459.08 Q96.8252 1463.67 91.0151 1463.67 Q85.2049 1463.67 82.1262 1459.08 Q79.0707 1454.48 79.0707 1445.75 Q79.0707 1437 82.1262 1432.42 Q85.2049 1427.81 91.0151 1427.81 Z\" fill=\"#000000\" fill-rule=\"nonzero\" fill-opacity=\"1\" /><path clip-path=\"url(#clip530)\" d=\"M82.0568 1029.1 L100.413 1029.1 L100.413 1033.04 L86.3392 1033.04 L86.3392 1041.51 Q87.3577 1041.16 88.3762 1041 Q89.3947 1040.81 90.4132 1040.81 Q96.2002 1040.81 99.5798 1043.98 Q102.959 1047.16 102.959 1052.57 Q102.959 1058.15 99.4872 1061.25 Q96.015 1064.33 89.6956 1064.33 Q87.5197 1064.33 85.2512 1063.96 Q83.0058 1063.59 80.5984 1062.85 L80.5984 1058.15 Q82.6818 1059.29 84.904 1059.84 Q87.1262 1060.4 89.603 1060.4 Q93.6076 1060.4 95.9456 1058.29 Q98.2835 1056.18 98.2835 1052.57 Q98.2835 1048.96 95.9456 1046.86 Q93.6076 1044.75 89.603 1044.75 Q87.728 1044.75 85.8531 1045.17 Q84.0012 1045.58 82.0568 1046.46 L82.0568 1029.1 Z\" fill=\"#000000\" fill-rule=\"nonzero\" fill-opacity=\"1\" /><path clip-path=\"url(#clip530)\" d=\"M51.6634 660.39 L59.3023 660.39 L59.3023 634.025 L50.9921 635.691 L50.9921 631.432 L59.256 629.765 L63.9319 629.765 L63.9319 660.39 L71.5707 660.39 L71.5707 664.325 L51.6634 664.325 L51.6634 660.39 Z\" fill=\"#000000\" fill-rule=\"nonzero\" fill-opacity=\"1\" /><path clip-path=\"url(#clip530)\" d=\"M91.0151 632.844 Q87.404 632.844 85.5753 636.409 Q83.7697 639.951 83.7697 647.08 Q83.7697 654.187 85.5753 657.751 Q87.404 661.293 91.0151 661.293 Q94.6493 661.293 96.4548 657.751 Q98.2835 654.187 98.2835 647.08 Q98.2835 639.951 96.4548 636.409 Q94.6493 632.844 91.0151 632.844 M91.0151 629.14 Q96.8252 629.14 99.8808 633.747 Q102.959 638.33 102.959 647.08 Q102.959 655.807 99.8808 660.413 Q96.8252 664.997 91.0151 664.997 Q85.2049 664.997 82.1262 660.413 Q79.0707 655.807 79.0707 647.08 Q79.0707 638.33 82.1262 633.747 Q85.2049 629.14 91.0151 629.14 Z\" fill=\"#000000\" fill-rule=\"nonzero\" fill-opacity=\"1\" /><path clip-path=\"url(#clip530)\" d=\"M52.6588 261.055 L60.2976 261.055 L60.2976 234.69 L51.9875 236.356 L51.9875 232.097 L60.2513 230.43 L64.9272 230.43 L64.9272 261.055 L72.5661 261.055 L72.5661 264.99 L52.6588 264.99 L52.6588 261.055 Z\" fill=\"#000000\" fill-rule=\"nonzero\" fill-opacity=\"1\" /><path clip-path=\"url(#clip530)\" d=\"M82.0568 230.43 L100.413 230.43 L100.413 234.365 L86.3392 234.365 L86.3392 242.838 Q87.3577 242.49 88.3762 242.328 Q89.3947 242.143 90.4132 242.143 Q96.2002 242.143 99.5798 245.315 Q102.959 248.486 102.959 253.902 Q102.959 259.481 99.4872 262.583 Q96.015 265.662 89.6956 265.662 Q87.5197 265.662 85.2512 265.291 Q83.0058 264.921 80.5984 264.18 L80.5984 259.481 Q82.6818 260.615 84.904 261.171 Q87.1262 261.726 89.603 261.726 Q93.6076 261.726 95.9456 259.62 Q98.2835 257.514 98.2835 253.902 Q98.2835 250.291 95.9456 248.185 Q93.6076 246.078 89.603 246.078 Q87.728 246.078 85.8531 246.495 Q84.0012 246.912 82.0568 247.791 L82.0568 230.43 Z\" fill=\"#000000\" fill-rule=\"nonzero\" fill-opacity=\"1\" /><polyline clip-path=\"url(#clip532)\" style=\"stroke:#009af9; stroke-linecap:round; stroke-linejoin:round; stroke-width:4; stroke-opacity:1; fill:none\" points=\"229.461,87.9763 299.557,87.9763 369.653,87.9763 439.75,87.9763 509.846,87.9763 579.942,87.9763 650.039,87.9763 720.135,87.9763 790.231,87.9763 860.328,87.9763 930.424,87.9763 1000.52,87.9763 1070.62,87.9763 1140.71,87.9763 1210.81,87.9763 1280.91,87.9763 1351,87.9763 1421.1,87.9763 1491.19,87.9763 1561.29,87.9763 1631.39,87.9763 1701.48,87.9763 1771.58,87.9763 1841.68,87.9763 1911.77,87.9763 1981.87,87.9763 2051.97,87.9763 2122.06,87.9763 2192.16,87.9763 2262.25,87.9763 2269.46,93.4191 2281.95,134.761 2289.15,206.368 2290.1,247.71 2290.1,507.278 2290.1,766.846 2290.1,1026.41 2290.1,1285.98 2289.15,1327.32 2281.95,1398.93 2269.46,1440.27 2262.25,1445.72 2192.16,1445.72 2122.06,1445.72 2051.97,1445.72 1981.87,1445.72 1911.77,1445.72 1841.68,1445.72 1771.58,1445.72 1701.48,1445.72 1631.39,1445.72 1561.29,1445.72 1491.19,1445.72 1421.1,1445.72 1351,1445.72 1280.91,1445.72 1210.81,1445.72 1140.71,1445.72 1070.62,1445.72 1000.52,1445.72 930.424,1445.72 860.328,1445.72 790.231,1445.72 720.135,1445.72 650.039,1445.72 579.942,1445.72 509.846,1445.72 439.75,1445.72 369.653,1445.72 299.557,1445.72 229.461,1445.72 222.253,1440.27 209.77,1398.93 202.563,1327.32 201.614,1285.98 201.614,1026.41 201.614,766.846 201.614,507.278 201.614,247.71 202.563,206.368 209.77,134.761 222.253,93.4191 229.461,87.9763 \"/>\n",
       "</svg>\n"
      ],
      "text/html": [
       "<?xml version=\"1.0\" encoding=\"utf-8\"?>\n",
       "<svg xmlns=\"http://www.w3.org/2000/svg\" xmlns:xlink=\"http://www.w3.org/1999/xlink\" width=\"600\" height=\"400\" viewBox=\"0 0 2400 1600\">\n",
       "<defs>\n",
       "  <clipPath id=\"clip580\">\n",
       "    <rect x=\"0\" y=\"0\" width=\"2400\" height=\"1600\"/>\n",
       "  </clipPath>\n",
       "</defs>\n",
       "<path clip-path=\"url(#clip580)\" d=\"M0 1600 L2400 1600 L2400 0 L0 0  Z\" fill=\"#ffffff\" fill-rule=\"evenodd\" fill-opacity=\"1\"/>\n",
       "<defs>\n",
       "  <clipPath id=\"clip581\">\n",
       "    <rect x=\"480\" y=\"0\" width=\"1681\" height=\"1600\"/>\n",
       "  </clipPath>\n",
       "</defs>\n",
       "<path clip-path=\"url(#clip580)\" d=\"M138.959 1486.45 L2352.76 1486.45 L2352.76 47.2441 L138.959 47.2441  Z\" fill=\"#ffffff\" fill-rule=\"evenodd\" fill-opacity=\"1\"/>\n",
       "<defs>\n",
       "  <clipPath id=\"clip582\">\n",
       "    <rect x=\"138\" y=\"47\" width=\"2215\" height=\"1440\"/>\n",
       "  </clipPath>\n",
       "</defs>\n",
       "<polyline clip-path=\"url(#clip582)\" style=\"stroke:#000000; stroke-linecap:round; stroke-linejoin:round; stroke-width:2; stroke-opacity:0.1; fill:none\" points=\"410.463,1486.45 410.463,47.2441 \"/>\n",
       "<polyline clip-path=\"url(#clip582)\" style=\"stroke:#000000; stroke-linecap:round; stroke-linejoin:round; stroke-width:2; stroke-opacity:0.1; fill:none\" points=\"688.928,1486.45 688.928,47.2441 \"/>\n",
       "<polyline clip-path=\"url(#clip582)\" style=\"stroke:#000000; stroke-linecap:round; stroke-linejoin:round; stroke-width:2; stroke-opacity:0.1; fill:none\" points=\"967.393,1486.45 967.393,47.2441 \"/>\n",
       "<polyline clip-path=\"url(#clip582)\" style=\"stroke:#000000; stroke-linecap:round; stroke-linejoin:round; stroke-width:2; stroke-opacity:0.1; fill:none\" points=\"1245.86,1486.45 1245.86,47.2441 \"/>\n",
       "<polyline clip-path=\"url(#clip582)\" style=\"stroke:#000000; stroke-linecap:round; stroke-linejoin:round; stroke-width:2; stroke-opacity:0.1; fill:none\" points=\"1524.32,1486.45 1524.32,47.2441 \"/>\n",
       "<polyline clip-path=\"url(#clip582)\" style=\"stroke:#000000; stroke-linecap:round; stroke-linejoin:round; stroke-width:2; stroke-opacity:0.1; fill:none\" points=\"1802.79,1486.45 1802.79,47.2441 \"/>\n",
       "<polyline clip-path=\"url(#clip582)\" style=\"stroke:#000000; stroke-linecap:round; stroke-linejoin:round; stroke-width:2; stroke-opacity:0.1; fill:none\" points=\"2081.25,1486.45 2081.25,47.2441 \"/>\n",
       "<polyline clip-path=\"url(#clip580)\" style=\"stroke:#000000; stroke-linecap:round; stroke-linejoin:round; stroke-width:4; stroke-opacity:1; fill:none\" points=\"138.959,1486.45 2352.76,1486.45 \"/>\n",
       "<polyline clip-path=\"url(#clip580)\" style=\"stroke:#000000; stroke-linecap:round; stroke-linejoin:round; stroke-width:4; stroke-opacity:1; fill:none\" points=\"410.463,1486.45 410.463,1467.55 \"/>\n",
       "<polyline clip-path=\"url(#clip580)\" style=\"stroke:#000000; stroke-linecap:round; stroke-linejoin:round; stroke-width:4; stroke-opacity:1; fill:none\" points=\"688.928,1486.45 688.928,1467.55 \"/>\n",
       "<polyline clip-path=\"url(#clip580)\" style=\"stroke:#000000; stroke-linecap:round; stroke-linejoin:round; stroke-width:4; stroke-opacity:1; fill:none\" points=\"967.393,1486.45 967.393,1467.55 \"/>\n",
       "<polyline clip-path=\"url(#clip580)\" style=\"stroke:#000000; stroke-linecap:round; stroke-linejoin:round; stroke-width:4; stroke-opacity:1; fill:none\" points=\"1245.86,1486.45 1245.86,1467.55 \"/>\n",
       "<polyline clip-path=\"url(#clip580)\" style=\"stroke:#000000; stroke-linecap:round; stroke-linejoin:round; stroke-width:4; stroke-opacity:1; fill:none\" points=\"1524.32,1486.45 1524.32,1467.55 \"/>\n",
       "<polyline clip-path=\"url(#clip580)\" style=\"stroke:#000000; stroke-linecap:round; stroke-linejoin:round; stroke-width:4; stroke-opacity:1; fill:none\" points=\"1802.79,1486.45 1802.79,1467.55 \"/>\n",
       "<polyline clip-path=\"url(#clip580)\" style=\"stroke:#000000; stroke-linecap:round; stroke-linejoin:round; stroke-width:4; stroke-opacity:1; fill:none\" points=\"2081.25,1486.45 2081.25,1467.55 \"/>\n",
       "<path clip-path=\"url(#clip580)\" d=\"M364.526 1532.02 L394.201 1532.02 L394.201 1535.95 L364.526 1535.95 L364.526 1532.02 Z\" fill=\"#000000\" fill-rule=\"nonzero\" fill-opacity=\"1\" /><path clip-path=\"url(#clip580)\" d=\"M414.872 1529.7 Q411.724 1529.7 409.873 1531.86 Q408.044 1534.01 408.044 1537.76 Q408.044 1541.49 409.873 1543.66 Q411.724 1545.82 414.872 1545.82 Q418.021 1545.82 419.849 1543.66 Q421.701 1541.49 421.701 1537.76 Q421.701 1534.01 419.849 1531.86 Q418.021 1529.7 414.872 1529.7 M424.155 1515.05 L424.155 1519.31 Q422.396 1518.48 420.59 1518.04 Q418.808 1517.6 417.048 1517.6 Q412.419 1517.6 409.965 1520.72 Q407.535 1523.85 407.187 1530.17 Q408.553 1528.15 410.613 1527.09 Q412.673 1526 415.15 1526 Q420.359 1526 423.368 1529.17 Q426.4 1532.32 426.4 1537.76 Q426.4 1543.08 423.252 1546.3 Q420.104 1549.52 414.872 1549.52 Q408.877 1549.52 405.706 1544.94 Q402.535 1540.33 402.535 1531.6 Q402.535 1523.41 406.423 1518.55 Q410.312 1513.66 416.863 1513.66 Q418.622 1513.66 420.405 1514.01 Q422.21 1514.36 424.155 1515.05 Z\" fill=\"#000000\" fill-rule=\"nonzero\" fill-opacity=\"1\" /><path clip-path=\"url(#clip580)\" d=\"M444.456 1517.37 Q440.845 1517.37 439.016 1520.93 Q437.21 1524.47 437.21 1531.6 Q437.21 1538.71 439.016 1542.27 Q440.845 1545.82 444.456 1545.82 Q448.09 1545.82 449.895 1542.27 Q451.724 1538.71 451.724 1531.6 Q451.724 1524.47 449.895 1520.93 Q448.09 1517.37 444.456 1517.37 M444.456 1513.66 Q450.266 1513.66 453.321 1518.27 Q456.4 1522.85 456.4 1531.6 Q456.4 1540.33 453.321 1544.94 Q450.266 1549.52 444.456 1549.52 Q438.645 1549.52 435.567 1544.94 Q432.511 1540.33 432.511 1531.6 Q432.511 1522.85 435.567 1518.27 Q438.645 1513.66 444.456 1513.66 Z\" fill=\"#000000\" fill-rule=\"nonzero\" fill-opacity=\"1\" /><path clip-path=\"url(#clip580)\" d=\"M642.99 1532.02 L672.666 1532.02 L672.666 1535.95 L642.99 1535.95 L642.99 1532.02 Z\" fill=\"#000000\" fill-rule=\"nonzero\" fill-opacity=\"1\" /><path clip-path=\"url(#clip580)\" d=\"M695.606 1518.36 L683.8 1536.81 L695.606 1536.81 L695.606 1518.36 M694.379 1514.29 L700.259 1514.29 L700.259 1536.81 L705.189 1536.81 L705.189 1540.7 L700.259 1540.7 L700.259 1548.85 L695.606 1548.85 L695.606 1540.7 L680.004 1540.7 L680.004 1536.19 L694.379 1514.29 Z\" fill=\"#000000\" fill-rule=\"nonzero\" fill-opacity=\"1\" /><path clip-path=\"url(#clip580)\" d=\"M722.921 1517.37 Q719.31 1517.37 717.481 1520.93 Q715.675 1524.47 715.675 1531.6 Q715.675 1538.71 717.481 1542.27 Q719.31 1545.82 722.921 1545.82 Q726.555 1545.82 728.36 1542.27 Q730.189 1538.71 730.189 1531.6 Q730.189 1524.47 728.36 1520.93 Q726.555 1517.37 722.921 1517.37 M722.921 1513.66 Q728.731 1513.66 731.786 1518.27 Q734.865 1522.85 734.865 1531.6 Q734.865 1540.33 731.786 1544.94 Q728.731 1549.52 722.921 1549.52 Q717.11 1549.52 714.032 1544.94 Q710.976 1540.33 710.976 1531.6 Q710.976 1522.85 714.032 1518.27 Q717.11 1513.66 722.921 1513.66 Z\" fill=\"#000000\" fill-rule=\"nonzero\" fill-opacity=\"1\" /><path clip-path=\"url(#clip580)\" d=\"M921.455 1532.02 L951.131 1532.02 L951.131 1535.95 L921.455 1535.95 L921.455 1532.02 Z\" fill=\"#000000\" fill-rule=\"nonzero\" fill-opacity=\"1\" /><path clip-path=\"url(#clip580)\" d=\"M965.252 1544.91 L981.571 1544.91 L981.571 1548.85 L959.627 1548.85 L959.627 1544.91 Q962.289 1542.16 966.872 1537.53 Q971.478 1532.88 972.659 1531.53 Q974.904 1529.01 975.784 1527.27 Q976.687 1525.51 976.687 1523.82 Q976.687 1521.07 974.742 1519.33 Q972.821 1517.6 969.719 1517.6 Q967.52 1517.6 965.066 1518.36 Q962.636 1519.13 959.858 1520.68 L959.858 1515.95 Q962.682 1514.82 965.136 1514.24 Q967.589 1513.66 969.626 1513.66 Q974.997 1513.66 978.191 1516.35 Q981.386 1519.03 981.386 1523.52 Q981.386 1525.65 980.576 1527.57 Q979.788 1529.47 977.682 1532.07 Q977.103 1532.74 974.001 1535.95 Q970.9 1539.15 965.252 1544.91 Z\" fill=\"#000000\" fill-rule=\"nonzero\" fill-opacity=\"1\" /><path clip-path=\"url(#clip580)\" d=\"M1001.39 1517.37 Q997.774 1517.37 995.946 1520.93 Q994.14 1524.47 994.14 1531.6 Q994.14 1538.71 995.946 1542.27 Q997.774 1545.82 1001.39 1545.82 Q1005.02 1545.82 1006.83 1542.27 Q1008.65 1538.71 1008.65 1531.6 Q1008.65 1524.47 1006.83 1520.93 Q1005.02 1517.37 1001.39 1517.37 M1001.39 1513.66 Q1007.2 1513.66 1010.25 1518.27 Q1013.33 1522.85 1013.33 1531.6 Q1013.33 1540.33 1010.25 1544.94 Q1007.2 1549.52 1001.39 1549.52 Q995.575 1549.52 992.497 1544.94 Q989.441 1540.33 989.441 1531.6 Q989.441 1522.85 992.497 1518.27 Q995.575 1513.66 1001.39 1513.66 Z\" fill=\"#000000\" fill-rule=\"nonzero\" fill-opacity=\"1\" /><path clip-path=\"url(#clip580)\" d=\"M1245.86 1517.37 Q1242.25 1517.37 1240.42 1520.93 Q1238.61 1524.47 1238.61 1531.6 Q1238.61 1538.71 1240.42 1542.27 Q1242.25 1545.82 1245.86 1545.82 Q1249.49 1545.82 1251.3 1542.27 Q1253.13 1538.71 1253.13 1531.6 Q1253.13 1524.47 1251.3 1520.93 Q1249.49 1517.37 1245.86 1517.37 M1245.86 1513.66 Q1251.67 1513.66 1254.72 1518.27 Q1257.8 1522.85 1257.8 1531.6 Q1257.8 1540.33 1254.72 1544.94 Q1251.67 1549.52 1245.86 1549.52 Q1240.05 1549.52 1236.97 1544.94 Q1233.91 1540.33 1233.91 1531.6 Q1233.91 1522.85 1236.97 1518.27 Q1240.05 1513.66 1245.86 1513.66 Z\" fill=\"#000000\" fill-rule=\"nonzero\" fill-opacity=\"1\" /><path clip-path=\"url(#clip580)\" d=\"M1503.1 1544.91 L1519.42 1544.91 L1519.42 1548.85 L1497.47 1548.85 L1497.47 1544.91 Q1500.13 1542.16 1504.72 1537.53 Q1509.32 1532.88 1510.5 1531.53 Q1512.75 1529.01 1513.63 1527.27 Q1514.53 1525.51 1514.53 1523.82 Q1514.53 1521.07 1512.59 1519.33 Q1510.67 1517.6 1507.56 1517.6 Q1505.36 1517.6 1502.91 1518.36 Q1500.48 1519.13 1497.7 1520.68 L1497.7 1515.95 Q1500.53 1514.82 1502.98 1514.24 Q1505.43 1513.66 1507.47 1513.66 Q1512.84 1513.66 1516.04 1516.35 Q1519.23 1519.03 1519.23 1523.52 Q1519.23 1525.65 1518.42 1527.57 Q1517.63 1529.47 1515.53 1532.07 Q1514.95 1532.74 1511.85 1535.95 Q1508.74 1539.15 1503.1 1544.91 Z\" fill=\"#000000\" fill-rule=\"nonzero\" fill-opacity=\"1\" /><path clip-path=\"url(#clip580)\" d=\"M1539.23 1517.37 Q1535.62 1517.37 1533.79 1520.93 Q1531.98 1524.47 1531.98 1531.6 Q1531.98 1538.71 1533.79 1542.27 Q1535.62 1545.82 1539.23 1545.82 Q1542.86 1545.82 1544.67 1542.27 Q1546.5 1538.71 1546.5 1531.6 Q1546.5 1524.47 1544.67 1520.93 Q1542.86 1517.37 1539.23 1517.37 M1539.23 1513.66 Q1545.04 1513.66 1548.1 1518.27 Q1551.17 1522.85 1551.17 1531.6 Q1551.17 1540.33 1548.1 1544.94 Q1545.04 1549.52 1539.23 1549.52 Q1533.42 1549.52 1530.34 1544.94 Q1527.29 1540.33 1527.29 1531.6 Q1527.29 1522.85 1530.34 1518.27 Q1533.42 1513.66 1539.23 1513.66 Z\" fill=\"#000000\" fill-rule=\"nonzero\" fill-opacity=\"1\" /><path clip-path=\"url(#clip580)\" d=\"M1790.96 1518.36 L1779.15 1536.81 L1790.96 1536.81 L1790.96 1518.36 M1789.73 1514.29 L1795.61 1514.29 L1795.61 1536.81 L1800.54 1536.81 L1800.54 1540.7 L1795.61 1540.7 L1795.61 1548.85 L1790.96 1548.85 L1790.96 1540.7 L1775.36 1540.7 L1775.36 1536.19 L1789.73 1514.29 Z\" fill=\"#000000\" fill-rule=\"nonzero\" fill-opacity=\"1\" /><path clip-path=\"url(#clip580)\" d=\"M1818.27 1517.37 Q1814.66 1517.37 1812.83 1520.93 Q1811.03 1524.47 1811.03 1531.6 Q1811.03 1538.71 1812.83 1542.27 Q1814.66 1545.82 1818.27 1545.82 Q1821.91 1545.82 1823.71 1542.27 Q1825.54 1538.71 1825.54 1531.6 Q1825.54 1524.47 1823.71 1520.93 Q1821.91 1517.37 1818.27 1517.37 M1818.27 1513.66 Q1824.08 1513.66 1827.14 1518.27 Q1830.22 1522.85 1830.22 1531.6 Q1830.22 1540.33 1827.14 1544.94 Q1824.08 1549.52 1818.27 1549.52 Q1812.46 1549.52 1809.38 1544.94 Q1806.33 1540.33 1806.33 1531.6 Q1806.33 1522.85 1809.38 1518.27 Q1812.46 1513.66 1818.27 1513.66 Z\" fill=\"#000000\" fill-rule=\"nonzero\" fill-opacity=\"1\" /><path clip-path=\"url(#clip580)\" d=\"M2066.66 1529.7 Q2063.51 1529.7 2061.66 1531.86 Q2059.83 1534.01 2059.83 1537.76 Q2059.83 1541.49 2061.66 1543.66 Q2063.51 1545.82 2066.66 1545.82 Q2069.81 1545.82 2071.63 1543.66 Q2073.49 1541.49 2073.49 1537.76 Q2073.49 1534.01 2071.63 1531.86 Q2069.81 1529.7 2066.66 1529.7 M2075.94 1515.05 L2075.94 1519.31 Q2074.18 1518.48 2072.38 1518.04 Q2070.59 1517.6 2068.83 1517.6 Q2064.2 1517.6 2061.75 1520.72 Q2059.32 1523.85 2058.97 1530.17 Q2060.34 1528.15 2062.4 1527.09 Q2064.46 1526 2066.94 1526 Q2072.14 1526 2075.15 1529.17 Q2078.19 1532.32 2078.19 1537.76 Q2078.19 1543.08 2075.04 1546.3 Q2071.89 1549.52 2066.66 1549.52 Q2060.66 1549.52 2057.49 1544.94 Q2054.32 1540.33 2054.32 1531.6 Q2054.32 1523.41 2058.21 1518.55 Q2062.1 1513.66 2068.65 1513.66 Q2070.41 1513.66 2072.19 1514.01 Q2074 1514.36 2075.94 1515.05 Z\" fill=\"#000000\" fill-rule=\"nonzero\" fill-opacity=\"1\" /><path clip-path=\"url(#clip580)\" d=\"M2096.24 1517.37 Q2092.63 1517.37 2090.8 1520.93 Q2089 1524.47 2089 1531.6 Q2089 1538.71 2090.8 1542.27 Q2092.63 1545.82 2096.24 1545.82 Q2099.88 1545.82 2101.68 1542.27 Q2103.51 1538.71 2103.51 1531.6 Q2103.51 1524.47 2101.68 1520.93 Q2099.88 1517.37 2096.24 1517.37 M2096.24 1513.66 Q2102.05 1513.66 2105.11 1518.27 Q2108.19 1522.85 2108.19 1531.6 Q2108.19 1540.33 2105.11 1544.94 Q2102.05 1549.52 2096.24 1549.52 Q2090.43 1549.52 2087.35 1544.94 Q2084.3 1540.33 2084.3 1531.6 Q2084.3 1522.85 2087.35 1518.27 Q2090.43 1513.66 2096.24 1513.66 Z\" fill=\"#000000\" fill-rule=\"nonzero\" fill-opacity=\"1\" /><polyline clip-path=\"url(#clip582)\" style=\"stroke:#000000; stroke-linecap:round; stroke-linejoin:round; stroke-width:2; stroke-opacity:0.1; fill:none\" points=\"138.959,1445.72 2352.76,1445.72 \"/>\n",
       "<polyline clip-path=\"url(#clip582)\" style=\"stroke:#000000; stroke-linecap:round; stroke-linejoin:round; stroke-width:2; stroke-opacity:0.1; fill:none\" points=\"138.959,1046.38 2352.76,1046.38 \"/>\n",
       "<polyline clip-path=\"url(#clip582)\" style=\"stroke:#000000; stroke-linecap:round; stroke-linejoin:round; stroke-width:2; stroke-opacity:0.1; fill:none\" points=\"138.959,647.045 2352.76,647.045 \"/>\n",
       "<polyline clip-path=\"url(#clip582)\" style=\"stroke:#000000; stroke-linecap:round; stroke-linejoin:round; stroke-width:2; stroke-opacity:0.1; fill:none\" points=\"138.959,247.71 2352.76,247.71 \"/>\n",
       "<polyline clip-path=\"url(#clip580)\" style=\"stroke:#000000; stroke-linecap:round; stroke-linejoin:round; stroke-width:4; stroke-opacity:1; fill:none\" points=\"138.959,1486.45 138.959,47.2441 \"/>\n",
       "<polyline clip-path=\"url(#clip580)\" style=\"stroke:#000000; stroke-linecap:round; stroke-linejoin:round; stroke-width:4; stroke-opacity:1; fill:none\" points=\"138.959,1445.72 157.857,1445.72 \"/>\n",
       "<polyline clip-path=\"url(#clip580)\" style=\"stroke:#000000; stroke-linecap:round; stroke-linejoin:round; stroke-width:4; stroke-opacity:1; fill:none\" points=\"138.959,1046.38 157.857,1046.38 \"/>\n",
       "<polyline clip-path=\"url(#clip580)\" style=\"stroke:#000000; stroke-linecap:round; stroke-linejoin:round; stroke-width:4; stroke-opacity:1; fill:none\" points=\"138.959,647.045 157.857,647.045 \"/>\n",
       "<polyline clip-path=\"url(#clip580)\" style=\"stroke:#000000; stroke-linecap:round; stroke-linejoin:round; stroke-width:4; stroke-opacity:1; fill:none\" points=\"138.959,247.71 157.857,247.71 \"/>\n",
       "<path clip-path=\"url(#clip580)\" d=\"M91.0151 1431.51 Q87.404 1431.51 85.5753 1435.08 Q83.7697 1438.62 83.7697 1445.75 Q83.7697 1452.86 85.5753 1456.42 Q87.404 1459.96 91.0151 1459.96 Q94.6493 1459.96 96.4548 1456.42 Q98.2835 1452.86 98.2835 1445.75 Q98.2835 1438.62 96.4548 1435.08 Q94.6493 1431.51 91.0151 1431.51 M91.0151 1427.81 Q96.8252 1427.81 99.8808 1432.42 Q102.959 1437 102.959 1445.75 Q102.959 1454.48 99.8808 1459.08 Q96.8252 1463.67 91.0151 1463.67 Q85.2049 1463.67 82.1262 1459.08 Q79.0707 1454.48 79.0707 1445.75 Q79.0707 1437 82.1262 1432.42 Q85.2049 1427.81 91.0151 1427.81 Z\" fill=\"#000000\" fill-rule=\"nonzero\" fill-opacity=\"1\" /><path clip-path=\"url(#clip580)\" d=\"M82.0568 1029.1 L100.413 1029.1 L100.413 1033.04 L86.3392 1033.04 L86.3392 1041.51 Q87.3577 1041.16 88.3762 1041 Q89.3947 1040.81 90.4132 1040.81 Q96.2002 1040.81 99.5798 1043.98 Q102.959 1047.16 102.959 1052.57 Q102.959 1058.15 99.4872 1061.25 Q96.015 1064.33 89.6956 1064.33 Q87.5197 1064.33 85.2512 1063.96 Q83.0058 1063.59 80.5984 1062.85 L80.5984 1058.15 Q82.6818 1059.29 84.904 1059.84 Q87.1262 1060.4 89.603 1060.4 Q93.6076 1060.4 95.9456 1058.29 Q98.2835 1056.18 98.2835 1052.57 Q98.2835 1048.96 95.9456 1046.86 Q93.6076 1044.75 89.603 1044.75 Q87.728 1044.75 85.8531 1045.17 Q84.0012 1045.58 82.0568 1046.46 L82.0568 1029.1 Z\" fill=\"#000000\" fill-rule=\"nonzero\" fill-opacity=\"1\" /><path clip-path=\"url(#clip580)\" d=\"M51.6634 660.39 L59.3023 660.39 L59.3023 634.025 L50.9921 635.691 L50.9921 631.432 L59.256 629.765 L63.9319 629.765 L63.9319 660.39 L71.5707 660.39 L71.5707 664.325 L51.6634 664.325 L51.6634 660.39 Z\" fill=\"#000000\" fill-rule=\"nonzero\" fill-opacity=\"1\" /><path clip-path=\"url(#clip580)\" d=\"M91.0151 632.844 Q87.404 632.844 85.5753 636.409 Q83.7697 639.951 83.7697 647.08 Q83.7697 654.187 85.5753 657.751 Q87.404 661.293 91.0151 661.293 Q94.6493 661.293 96.4548 657.751 Q98.2835 654.187 98.2835 647.08 Q98.2835 639.951 96.4548 636.409 Q94.6493 632.844 91.0151 632.844 M91.0151 629.14 Q96.8252 629.14 99.8808 633.747 Q102.959 638.33 102.959 647.08 Q102.959 655.807 99.8808 660.413 Q96.8252 664.997 91.0151 664.997 Q85.2049 664.997 82.1262 660.413 Q79.0707 655.807 79.0707 647.08 Q79.0707 638.33 82.1262 633.747 Q85.2049 629.14 91.0151 629.14 Z\" fill=\"#000000\" fill-rule=\"nonzero\" fill-opacity=\"1\" /><path clip-path=\"url(#clip580)\" d=\"M52.6588 261.055 L60.2976 261.055 L60.2976 234.69 L51.9875 236.356 L51.9875 232.097 L60.2513 230.43 L64.9272 230.43 L64.9272 261.055 L72.5661 261.055 L72.5661 264.99 L52.6588 264.99 L52.6588 261.055 Z\" fill=\"#000000\" fill-rule=\"nonzero\" fill-opacity=\"1\" /><path clip-path=\"url(#clip580)\" d=\"M82.0568 230.43 L100.413 230.43 L100.413 234.365 L86.3392 234.365 L86.3392 242.838 Q87.3577 242.49 88.3762 242.328 Q89.3947 242.143 90.4132 242.143 Q96.2002 242.143 99.5798 245.315 Q102.959 248.486 102.959 253.902 Q102.959 259.481 99.4872 262.583 Q96.015 265.662 89.6956 265.662 Q87.5197 265.662 85.2512 265.291 Q83.0058 264.921 80.5984 264.18 L80.5984 259.481 Q82.6818 260.615 84.904 261.171 Q87.1262 261.726 89.603 261.726 Q93.6076 261.726 95.9456 259.62 Q98.2835 257.514 98.2835 253.902 Q98.2835 250.291 95.9456 248.185 Q93.6076 246.078 89.603 246.078 Q87.728 246.078 85.8531 246.495 Q84.0012 246.912 82.0568 247.791 L82.0568 230.43 Z\" fill=\"#000000\" fill-rule=\"nonzero\" fill-opacity=\"1\" /><polyline clip-path=\"url(#clip582)\" style=\"stroke:#009af9; stroke-linecap:round; stroke-linejoin:round; stroke-width:4; stroke-opacity:1; fill:none\" points=\"229.461,87.9763 299.557,87.9763 369.653,87.9763 439.75,87.9763 509.846,87.9763 579.942,87.9763 650.039,87.9763 720.135,87.9763 790.231,87.9763 860.328,87.9763 930.424,87.9763 1000.52,87.9763 1070.62,87.9763 1140.71,87.9763 1210.81,87.9763 1280.91,87.9763 1351,87.9763 1421.1,87.9763 1491.19,87.9763 1561.29,87.9763 1631.39,87.9763 1701.48,87.9763 1771.58,87.9763 1841.68,87.9763 1911.77,87.9763 1981.87,87.9763 2051.97,87.9763 2122.06,87.9763 2192.16,87.9763 2262.25,87.9763 2269.46,93.4191 2281.95,134.761 2289.15,206.368 2290.1,247.71 2290.1,507.278 2290.1,766.846 2290.1,1026.41 2290.1,1285.98 2289.15,1327.32 2281.95,1398.93 2269.46,1440.27 2262.25,1445.72 2192.16,1445.72 2122.06,1445.72 2051.97,1445.72 1981.87,1445.72 1911.77,1445.72 1841.68,1445.72 1771.58,1445.72 1701.48,1445.72 1631.39,1445.72 1561.29,1445.72 1491.19,1445.72 1421.1,1445.72 1351,1445.72 1280.91,1445.72 1210.81,1445.72 1140.71,1445.72 1070.62,1445.72 1000.52,1445.72 930.424,1445.72 860.328,1445.72 790.231,1445.72 720.135,1445.72 650.039,1445.72 579.942,1445.72 509.846,1445.72 439.75,1445.72 369.653,1445.72 299.557,1445.72 229.461,1445.72 222.253,1440.27 209.77,1398.93 202.563,1327.32 201.614,1285.98 201.614,1026.41 201.614,766.846 201.614,507.278 201.614,247.71 202.563,206.368 209.77,134.761 222.253,93.4191 229.461,87.9763 \"/>\n",
       "</svg>\n"
      ]
     },
     "execution_count": 12,
     "metadata": {},
     "output_type": "execute_result"
    }
   ],
   "source": [
    "X,Y = getSurfPoints(rod)\n",
    "plot(X,Y,legend=:none)"
   ]
  },
  {
   "cell_type": "code",
   "execution_count": 13,
   "id": "9e93fc3e-c65c-4e8e-8f91-ae5368b1ac5e",
   "metadata": {},
   "outputs": [],
   "source": [
    "xm = (maximum(X)-minimum(X))+1;"
   ]
  },
  {
   "cell_type": "code",
   "execution_count": 14,
   "id": "6ec680e9-6a74-4a74-916d-26da9447c080",
   "metadata": {},
   "outputs": [],
   "source": [
    "yp = 2maximum(Y)+1\n",
    "ym = 2minimum(Y);"
   ]
  },
  {
   "cell_type": "code",
   "execution_count": 15,
   "id": "78c902d6-4da7-4cf6-8aec-a43ada5c047b",
   "metadata": {},
   "outputs": [
    {
     "data": {
      "text/plain": [
       "2"
      ]
     },
     "execution_count": 15,
     "metadata": {},
     "output_type": "execute_result"
    }
   ],
   "source": [
    "dThr = 50.\n",
    "m = 2"
   ]
  },
  {
   "cell_type": "code",
   "execution_count": 222,
   "id": "151a4481-9477-448a-bbc7-24f3b6361a27",
   "metadata": {},
   "outputs": [
    {
     "data": {
      "text/plain": [
       "90"
      ]
     },
     "execution_count": 222,
     "metadata": {},
     "output_type": "execute_result"
    }
   ],
   "source": [
    "i = 1\n",
    "\n",
    "k0 = 2π/700\n",
    "n₁ = mat1.n(k0)\n",
    "n₂ = mat2.n(k0)\n",
    "r = 500.\n",
    "α = 90"
   ]
  },
  {
   "cell_type": "code",
   "execution_count": 223,
   "id": "dfc9ce92-b2c7-4357-b5af-cacf93ce3cfa",
   "metadata": {},
   "outputs": [],
   "source": [
    "SParms = SommerfieldParams(layer,2k0);"
   ]
  },
  {
   "cell_type": "code",
   "execution_count": 224,
   "id": "efc4a739-b01b-4554-9a38-403e129b53c2",
   "metadata": {},
   "outputs": [
    {
     "name": "stdout",
     "output_type": "stream",
     "text": [
      "  5.151025 seconds (27.93 M allocations: 1.146 GiB, 6.93% gc time)\n"
     ]
    }
   ],
   "source": [
    "@time Grf = GreenFunctions(matScatter,\"layer\";xP= (xm , 10), yP = (ym,yp,6), SParms = SParms);"
   ]
  },
  {
   "cell_type": "code",
   "execution_count": 225,
   "id": "ca1f0433-14ba-419d-b4e7-3ad06501a271",
   "metadata": {},
   "outputs": [
    {
     "name": "stdout",
     "output_type": "stream",
     "text": [
      " 19.255523 seconds (258.94 M allocations: 10.327 GiB, 11.95% gc time)\n"
     ]
    }
   ],
   "source": [
    "@time H,ϕ = getHϕ(m,rod,k0,Grf,matSc.n,mat1.n,dThr,α,layer,\"layer\");"
   ]
  },
  {
   "cell_type": "code",
   "execution_count": 226,
   "id": "ac7a780e-9881-4265-ad38-caa6c2f8a8de",
   "metadata": {},
   "outputs": [
    {
     "data": {
      "application/vnd.plotly.v1+json": {
       "data": [
        {
         "colorbar": {
          "len": 0.914342738407699,
          "title": {
           "text": ""
          },
          "x": 0.9934383202099737,
          "y": 0.5329861111111112
         },
         "legendgroup": "$\\Re\\{ H(\\mathbf{s}(t)) \\}$",
         "line": {
          "color": "rgba(0, 0, 0, 1)",
          "dash": "solid",
          "shape": "linear",
          "width": 1.5
         },
         "mode": "lines",
         "name": "$\\Re\\{ H(\\mathbf{s}(t)) \\}$",
         "showlegend": true,
         "type": "scatter",
         "x": [
          1,
          2,
          3,
          4,
          5,
          6,
          7,
          8,
          9,
          10,
          11,
          12,
          13,
          14,
          15,
          16,
          17,
          18,
          19,
          20,
          21,
          22,
          23,
          24,
          25,
          26,
          27,
          28,
          29,
          30,
          31,
          32,
          33,
          34,
          35,
          36,
          37,
          38,
          39,
          40,
          41,
          42,
          43,
          44,
          45,
          46,
          47,
          48,
          49,
          50,
          51,
          52,
          53,
          54,
          55,
          56,
          57,
          58,
          59,
          60,
          61,
          62,
          63,
          64,
          65,
          66,
          67,
          68,
          69,
          70,
          71,
          72,
          73,
          74,
          75,
          76,
          77,
          78,
          79,
          80,
          81,
          82
         ],
         "xaxis": "x",
         "y": [
          0.312387270300529,
          0.1759025549639116,
          0.059388143168324734,
          -0.04329703373146834,
          -0.1345748943804449,
          -0.21570681755895138,
          -0.28737253612166475,
          -0.34995441533643656,
          -0.40359601133844675,
          -0.44833366105316186,
          -0.48417395469769203,
          -0.5110895397465122,
          -0.5290469629152136,
          -0.5380300359285001,
          -0.5380290878819668,
          -0.5290441739402535,
          -0.5110843058495149,
          -0.4841659552151533,
          -0.44831279905003674,
          -0.40358438374395045,
          -0.3499424574425951,
          -0.28736028363433486,
          -0.2156943986834144,
          -0.13456256261117283,
          -0.0432850763726042,
          0.059399458218641336,
          0.17591307727990252,
          0.3123968929480986,
          0.5019949938124316,
          0.536430005367299,
          0.614893086717166,
          0.6928830510525433,
          0.7268842336007747,
          0.8542814169227558,
          0.9548605755783609,
          1.0607151340520924,
          1.2170911383827367,
          1.2618203284308396,
          1.3784912175397535,
          1.541942478183582,
          1.6518836399605397,
          2.1341739027914657,
          2.459381361761984,
          2.7347112300791454,
          2.9785630683289686,
          3.197531850716824,
          3.394134495029662,
          3.569260280361615,
          3.722976520315036,
          3.8552825988295725,
          3.9660492591482557,
          4.055033639728372,
          4.1220520761380035,
          4.166882415752423,
          4.189345891501256,
          4.189347417681869,
          4.166887098335791,
          4.122059081164749,
          4.055042985960687,
          3.96605287818941,
          3.8553024604224246,
          3.7229982872495375,
          3.5692828218445922,
          3.3941570212965773,
          3.1975538496229325,
          2.9785840666891823,
          2.7347306540222323,
          2.4593982800684104,
          2.1341869239287705,
          1.6518915066912632,
          1.5419481635942298,
          1.3784956057625823,
          1.2618230247382811,
          1.2170931392840787,
          1.0607149110067409,
          0.9548588084943488,
          0.8542784653967916,
          0.7268800809329388,
          0.6928785052692941,
          0.6148874473107119,
          0.5364230841187916,
          0.5019874647322324
         ],
         "yaxis": "y"
        },
        {
         "colorbar": {
          "len": 0.914342738407699,
          "title": {
           "text": ""
          },
          "x": 0.9934383202099737,
          "y": 0.5329861111111112
         },
         "legendgroup": "$\\Re\\{ \\phi(\\mathbf{s}(t)) \\}/ k_0$",
         "line": {
          "color": "rgba(0, 0, 255, 1.000)",
          "dash": "dash",
          "shape": "linear",
          "width": 1.5
         },
         "mode": "lines",
         "name": "$\\Re\\{ \\phi(\\mathbf{s}(t)) \\}/ k_0$",
         "showlegend": true,
         "type": "scatter",
         "x": [
          1,
          2,
          3,
          4,
          5,
          6,
          7,
          8,
          9,
          10,
          11,
          12,
          13,
          14,
          15,
          16,
          17,
          18,
          19,
          20,
          21,
          22,
          23,
          24,
          25,
          26,
          27,
          28,
          29,
          30,
          31,
          32,
          33,
          34,
          35,
          36,
          37,
          38,
          39,
          40,
          41,
          42,
          43,
          44,
          45,
          46,
          47,
          48,
          49,
          50,
          51,
          52,
          53,
          54,
          55,
          56,
          57,
          58,
          59,
          60,
          61,
          62,
          63,
          64,
          65,
          66,
          67,
          68,
          69,
          70,
          71,
          72,
          73,
          74,
          75,
          76,
          77,
          78,
          79,
          80,
          81,
          82
         ],
         "xaxis": "x",
         "y": [
          0.6486940256564234,
          0.8111646679019149,
          0.9632969428642577,
          1.098749222262934,
          1.21901006198309,
          1.3258821748250562,
          1.4203926187993188,
          1.50309561035477,
          1.5740276237927724,
          1.6331992693476751,
          1.6809954007053185,
          1.7168310779107945,
          1.7407409610643956,
          1.7527094831091923,
          1.7527072942443742,
          1.7407348117348835,
          1.7168210637822474,
          1.6810231777136415,
          1.6333784152081925,
          1.5737607949610222,
          1.5030559625554407,
          1.4203762343097928,
          1.3258705111973343,
          1.2190001233279892,
          1.0987404055747898,
          0.9632891761609681,
          0.8111583341532617,
          0.6486882407742427,
          0.5175082408723491,
          0.32079836841705606,
          0.04470596243018478,
          -0.21366634143630292,
          -0.37384628319255286,
          -0.09800751043571139,
          0.15936598146016764,
          0.45341879045566647,
          0.7809839985984341,
          0.5824251257981992,
          0.3137933206752448,
          -0.11334514073575393,
          -1.065542105697481,
          -0.9654164785600663,
          -1.0800978890002555,
          -1.2165512282151367,
          -1.3495498949895333,
          -1.4735593956049586,
          -1.5867836342357575,
          -1.688535108306864,
          -1.7779915787527294,
          -1.8551335214220837,
          -1.9192760122729795,
          -1.9713433979153208,
          -2.010504943101023,
          -2.0366927345089483,
          -2.0498111533576515,
          -2.049809567616976,
          -2.0366877515447794,
          -2.010464322281008,
          -1.9711672710259276,
          -1.9194459877209649,
          -1.854990756846671,
          -1.7779762993698731,
          -1.6885354854467352,
          -1.5867875908863345,
          -1.4735642414257353,
          -1.3495546392375488,
          -1.2165552227801688,
          -1.0801006249855412,
          -0.9654180960283943,
          -1.065555520152989,
          -0.1133263197580624,
          0.31379654660318607,
          0.5824390217364418,
          0.7810001302353434,
          0.45342829960539316,
          0.15937229591197508,
          -0.09800532696722299,
          -0.3738530310907828,
          -0.21367273157253008,
          0.04470802395627582,
          0.3208096440114349,
          0.5175211933370111
         ],
         "yaxis": "y"
        }
       ],
       "layout": {
        "annotations": [],
        "height": 400,
        "legend": {
         "bgcolor": "rgba(255, 255, 255, 1.000)",
         "bordercolor": "rgba(0, 0, 0, 1)",
         "borderwidth": 1,
         "font": {
          "color": "rgba(0, 0, 0, 1)",
          "family": "sans-serif",
          "size": 11
         },
         "title": {
          "font": {
           "color": "rgba(0, 0, 0, 1)",
           "family": "sans-serif",
           "size": 15
          },
          "text": ""
         },
         "tracegroupgap": 0,
         "traceorder": "normal",
         "x": 0.07,
         "xanchor": "left",
         "y": 1,
         "yanchor": "top"
        },
        "margin": {
         "b": 20,
         "l": 0,
         "r": 0,
         "t": 20
        },
        "paper_bgcolor": "rgba(255, 255, 255, 1.000)",
        "plot_bgcolor": "rgba(255, 255, 255, 1.000)",
        "showlegend": true,
        "width": 600,
        "xaxis": {
         "anchor": "y",
         "domain": [
          0.061654272382618835,
          0.9934383202099737
         ],
         "gridcolor": "rgba(0, 0, 0, 0.1)",
         "gridwidth": 0.5,
         "linecolor": "rgba(0, 0, 0, 1)",
         "mirror": false,
         "range": [
          -1.4299999999999997,
          84.43
         ],
         "showgrid": true,
         "showline": true,
         "showticklabels": true,
         "tickangle": 0,
         "tickcolor": "rgb(0, 0, 0)",
         "tickfont": {
          "color": "rgba(0, 0, 0, 1)",
          "family": "sans-serif",
          "size": 11
         },
         "tickmode": "array",
         "ticks": "inside",
         "ticktext": [
          "0",
          "20",
          "40",
          "60",
          "80"
         ],
         "tickvals": [
          0,
          20,
          40,
          60,
          80
         ],
         "title": {
          "font": {
           "color": "rgba(0, 0, 0, 1)",
           "family": "sans-serif",
           "size": 15
          },
          "text": "$t~[nm]$"
         },
         "type": "linear",
         "visible": true,
         "zeroline": false,
         "zerolinecolor": "rgba(0, 0, 0, 1)"
        },
        "yaxis": {
         "anchor": "x",
         "domain": [
          0.07581474190726165,
          0.9901574803149606
         ],
         "gridcolor": "rgba(0, 0, 0, 0.1)",
         "gridwidth": 0.5,
         "linecolor": "rgba(0, 0, 0, 1)",
         "mirror": false,
         "range": [
          -2.236985910488838,
          4.376522174813055
         ],
         "showgrid": true,
         "showline": true,
         "showticklabels": true,
         "tickangle": 0,
         "tickcolor": "rgb(0, 0, 0)",
         "tickfont": {
          "color": "rgba(0, 0, 0, 1)",
          "family": "sans-serif",
          "size": 11
         },
         "tickmode": "array",
         "ticks": "inside",
         "ticktext": [
          "−2",
          "−1",
          "0",
          "1",
          "2",
          "3",
          "4"
         ],
         "tickvals": [
          -2,
          -1,
          0,
          1,
          2,
          3,
          4
         ],
         "title": {
          "font": {
           "color": "rgba(0, 0, 0, 1)",
           "family": "sans-serif",
           "size": 15
          },
          "text": "$Field$"
         },
         "type": "linear",
         "visible": true,
         "zeroline": false,
         "zerolinecolor": "rgba(0, 0, 0, 1)"
        }
       }
      },
      "image/png": "[encoded data removed]",
      "text/html": [
       "    <div id=\"3365875e-a333-4fd8-93da-f6a423b62158\" style=\"width:600px;height:400px;\"></div>\n",
       "    <script>\n",
       "        requirejs.config({\n",
       "        paths: {\n",
       "            plotly: 'https://cdn.plot.ly/plotly-2.6.3.min'\n",
       "        }\n",
       "    });\n",
       "    require(['plotly'], function (Plotly) {\n",
       "\n",
       "    Plotly.newPlot('3365875e-a333-4fd8-93da-f6a423b62158', [\n",
       "    {\n",
       "        \"showlegend\": true,\n",
       "        \"mode\": \"lines\",\n",
       "        \"xaxis\": \"x\",\n",
       "        \"colorbar\": {\n",
       "            \"y\": 0.5329861111111112,\n",
       "            \"title\": \"\",\n",
       "            \"len\": 0.914342738407699,\n",
       "            \"x\": 0.9934383202099737\n",
       "        },\n",
       "        \"name\": \"$\\\\Re\\\\{ H(\\\\mathbf{s}(t)) \\\\}$\",\n",
       "        \"yaxis\": \"y\",\n",
       "        \"legendgroup\": \"$\\\\Re\\\\{ H(\\\\mathbf{s}(t)) \\\\}$\",\n",
       "        \"line\": {\n",
       "            \"color\": \"rgba(0, 0, 0, 1.000)\",\n",
       "            \"shape\": \"linear\",\n",
       "            \"dash\": \"solid\",\n",
       "            \"width\": 1.5\n",
       "        },\n",
       "        \"y\": [\n",
       "            0.312387270300529,\n",
       "            0.1759025549639116,\n",
       "            0.059388143168324734,\n",
       "            -0.04329703373146834,\n",
       "            -0.1345748943804449,\n",
       "            -0.21570681755895138,\n",
       "            -0.28737253612166475,\n",
       "            -0.34995441533643656,\n",
       "            -0.40359601133844675,\n",
       "            -0.44833366105316186,\n",
       "            -0.48417395469769203,\n",
       "            -0.5110895397465122,\n",
       "            -0.5290469629152136,\n",
       "            -0.5380300359285001,\n",
       "            -0.5380290878819668,\n",
       "            -0.5290441739402535,\n",
       "            -0.5110843058495149,\n",
       "            -0.4841659552151533,\n",
       "            -0.44831279905003674,\n",
       "            -0.40358438374395045,\n",
       "            -0.3499424574425951,\n",
       "            -0.28736028363433486,\n",
       "            -0.2156943986834144,\n",
       "            -0.13456256261117283,\n",
       "            -0.0432850763726042,\n",
       "            0.059399458218641336,\n",
       "            0.17591307727990252,\n",
       "            0.3123968929480986,\n",
       "            0.5019949938124316,\n",
       "            0.536430005367299,\n",
       "            0.614893086717166,\n",
       "            0.6928830510525433,\n",
       "            0.7268842336007747,\n",
       "            0.8542814169227558,\n",
       "            0.9548605755783609,\n",
       "            1.0607151340520924,\n",
       "            1.2170911383827367,\n",
       "            1.2618203284308396,\n",
       "            1.3784912175397535,\n",
       "            1.541942478183582,\n",
       "            1.6518836399605397,\n",
       "            2.1341739027914657,\n",
       "            2.459381361761984,\n",
       "            2.7347112300791454,\n",
       "            2.9785630683289686,\n",
       "            3.197531850716824,\n",
       "            3.394134495029662,\n",
       "            3.569260280361615,\n",
       "            3.722976520315036,\n",
       "            3.8552825988295725,\n",
       "            3.9660492591482557,\n",
       "            4.055033639728372,\n",
       "            4.1220520761380035,\n",
       "            4.166882415752423,\n",
       "            4.189345891501256,\n",
       "            4.189347417681869,\n",
       "            4.166887098335791,\n",
       "            4.122059081164749,\n",
       "            4.055042985960687,\n",
       "            3.96605287818941,\n",
       "            3.8553024604224246,\n",
       "            3.7229982872495375,\n",
       "            3.5692828218445922,\n",
       "            3.3941570212965773,\n",
       "            3.1975538496229325,\n",
       "            2.9785840666891823,\n",
       "            2.7347306540222323,\n",
       "            2.4593982800684104,\n",
       "            2.1341869239287705,\n",
       "            1.6518915066912632,\n",
       "            1.5419481635942298,\n",
       "            1.3784956057625823,\n",
       "            1.2618230247382811,\n",
       "            1.2170931392840787,\n",
       "            1.0607149110067409,\n",
       "            0.9548588084943488,\n",
       "            0.8542784653967916,\n",
       "            0.7268800809329388,\n",
       "            0.6928785052692941,\n",
       "            0.6148874473107119,\n",
       "            0.5364230841187916,\n",
       "            0.5019874647322324\n",
       "        ],\n",
       "        \"type\": \"scatter\",\n",
       "        \"x\": [\n",
       "            1,\n",
       "            2,\n",
       "            3,\n",
       "            4,\n",
       "            5,\n",
       "            6,\n",
       "            7,\n",
       "            8,\n",
       "            9,\n",
       "            10,\n",
       "            11,\n",
       "            12,\n",
       "            13,\n",
       "            14,\n",
       "            15,\n",
       "            16,\n",
       "            17,\n",
       "            18,\n",
       "            19,\n",
       "            20,\n",
       "            21,\n",
       "            22,\n",
       "            23,\n",
       "            24,\n",
       "            25,\n",
       "            26,\n",
       "            27,\n",
       "            28,\n",
       "            29,\n",
       "            30,\n",
       "            31,\n",
       "            32,\n",
       "            33,\n",
       "            34,\n",
       "            35,\n",
       "            36,\n",
       "            37,\n",
       "            38,\n",
       "            39,\n",
       "            40,\n",
       "            41,\n",
       "            42,\n",
       "            43,\n",
       "            44,\n",
       "            45,\n",
       "            46,\n",
       "            47,\n",
       "            48,\n",
       "            49,\n",
       "            50,\n",
       "            51,\n",
       "            52,\n",
       "            53,\n",
       "            54,\n",
       "            55,\n",
       "            56,\n",
       "            57,\n",
       "            58,\n",
       "            59,\n",
       "            60,\n",
       "            61,\n",
       "            62,\n",
       "            63,\n",
       "            64,\n",
       "            65,\n",
       "            66,\n",
       "            67,\n",
       "            68,\n",
       "            69,\n",
       "            70,\n",
       "            71,\n",
       "            72,\n",
       "            73,\n",
       "            74,\n",
       "            75,\n",
       "            76,\n",
       "            77,\n",
       "            78,\n",
       "            79,\n",
       "            80,\n",
       "            81,\n",
       "            82\n",
       "        ]\n",
       "    },\n",
       "    {\n",
       "        \"showlegend\": true,\n",
       "        \"mode\": \"lines\",\n",
       "        \"xaxis\": \"x\",\n",
       "        \"colorbar\": {\n",
       "            \"y\": 0.5329861111111112,\n",
       "            \"title\": \"\",\n",
       "            \"len\": 0.914342738407699,\n",
       "            \"x\": 0.9934383202099737\n",
       "        },\n",
       "        \"name\": \"$\\\\Re\\\\{ \\\\phi(\\\\mathbf{s}(t)) \\\\}/ k_0$\",\n",
       "        \"yaxis\": \"y\",\n",
       "        \"legendgroup\": \"$\\\\Re\\\\{ \\\\phi(\\\\mathbf{s}(t)) \\\\}/ k_0$\",\n",
       "        \"line\": {\n",
       "            \"color\": \"rgba(0, 0, 255, 1.000)\",\n",
       "            \"shape\": \"linear\",\n",
       "            \"dash\": \"dash\",\n",
       "            \"width\": 1.5\n",
       "        },\n",
       "        \"y\": [\n",
       "            0.6486940256564234,\n",
       "            0.8111646679019149,\n",
       "            0.9632969428642577,\n",
       "            1.098749222262934,\n",
       "            1.21901006198309,\n",
       "            1.3258821748250562,\n",
       "            1.4203926187993188,\n",
       "            1.50309561035477,\n",
       "            1.5740276237927724,\n",
       "            1.6331992693476751,\n",
       "            1.6809954007053185,\n",
       "            1.7168310779107945,\n",
       "            1.7407409610643956,\n",
       "            1.7527094831091923,\n",
       "            1.7527072942443742,\n",
       "            1.7407348117348835,\n",
       "            1.7168210637822474,\n",
       "            1.6810231777136415,\n",
       "            1.6333784152081925,\n",
       "            1.5737607949610222,\n",
       "            1.5030559625554407,\n",
       "            1.4203762343097928,\n",
       "            1.3258705111973343,\n",
       "            1.2190001233279892,\n",
       "            1.0987404055747898,\n",
       "            0.9632891761609681,\n",
       "            0.8111583341532617,\n",
       "            0.6486882407742427,\n",
       "            0.5175082408723491,\n",
       "            0.32079836841705606,\n",
       "            0.04470596243018478,\n",
       "            -0.21366634143630292,\n",
       "            -0.37384628319255286,\n",
       "            -0.09800751043571139,\n",
       "            0.15936598146016764,\n",
       "            0.45341879045566647,\n",
       "            0.7809839985984341,\n",
       "            0.5824251257981992,\n",
       "            0.3137933206752448,\n",
       "            -0.11334514073575393,\n",
       "            -1.065542105697481,\n",
       "            -0.9654164785600663,\n",
       "            -1.0800978890002555,\n",
       "            -1.2165512282151367,\n",
       "            -1.3495498949895333,\n",
       "            -1.4735593956049586,\n",
       "            -1.5867836342357575,\n",
       "            -1.688535108306864,\n",
       "            -1.7779915787527294,\n",
       "            -1.8551335214220837,\n",
       "            -1.9192760122729795,\n",
       "            -1.9713433979153208,\n",
       "            -2.010504943101023,\n",
       "            -2.0366927345089483,\n",
       "            -2.0498111533576515,\n",
       "            -2.049809567616976,\n",
       "            -2.0366877515447794,\n",
       "            -2.010464322281008,\n",
       "            -1.9711672710259276,\n",
       "            -1.9194459877209649,\n",
       "            -1.854990756846671,\n",
       "            -1.7779762993698731,\n",
       "            -1.6885354854467352,\n",
       "            -1.5867875908863345,\n",
       "            -1.4735642414257353,\n",
       "            -1.3495546392375488,\n",
       "            -1.2165552227801688,\n",
       "            -1.0801006249855412,\n",
       "            -0.9654180960283943,\n",
       "            -1.065555520152989,\n",
       "            -0.1133263197580624,\n",
       "            0.31379654660318607,\n",
       "            0.5824390217364418,\n",
       "            0.7810001302353434,\n",
       "            0.45342829960539316,\n",
       "            0.15937229591197508,\n",
       "            -0.09800532696722299,\n",
       "            -0.3738530310907828,\n",
       "            -0.21367273157253008,\n",
       "            0.04470802395627582,\n",
       "            0.3208096440114349,\n",
       "            0.5175211933370111\n",
       "        ],\n",
       "        \"type\": \"scatter\",\n",
       "        \"x\": [\n",
       "            1,\n",
       "            2,\n",
       "            3,\n",
       "            4,\n",
       "            5,\n",
       "            6,\n",
       "            7,\n",
       "            8,\n",
       "            9,\n",
       "            10,\n",
       "            11,\n",
       "            12,\n",
       "            13,\n",
       "            14,\n",
       "            15,\n",
       "            16,\n",
       "            17,\n",
       "            18,\n",
       "            19,\n",
       "            20,\n",
       "            21,\n",
       "            22,\n",
       "            23,\n",
       "            24,\n",
       "            25,\n",
       "            26,\n",
       "            27,\n",
       "            28,\n",
       "            29,\n",
       "            30,\n",
       "            31,\n",
       "            32,\n",
       "            33,\n",
       "            34,\n",
       "            35,\n",
       "            36,\n",
       "            37,\n",
       "            38,\n",
       "            39,\n",
       "            40,\n",
       "            41,\n",
       "            42,\n",
       "            43,\n",
       "            44,\n",
       "            45,\n",
       "            46,\n",
       "            47,\n",
       "            48,\n",
       "            49,\n",
       "            50,\n",
       "            51,\n",
       "            52,\n",
       "            53,\n",
       "            54,\n",
       "            55,\n",
       "            56,\n",
       "            57,\n",
       "            58,\n",
       "            59,\n",
       "            60,\n",
       "            61,\n",
       "            62,\n",
       "            63,\n",
       "            64,\n",
       "            65,\n",
       "            66,\n",
       "            67,\n",
       "            68,\n",
       "            69,\n",
       "            70,\n",
       "            71,\n",
       "            72,\n",
       "            73,\n",
       "            74,\n",
       "            75,\n",
       "            76,\n",
       "            77,\n",
       "            78,\n",
       "            79,\n",
       "            80,\n",
       "            81,\n",
       "            82\n",
       "        ]\n",
       "    }\n",
       "]\n",
       ", {\n",
       "    \"showlegend\": true,\n",
       "    \"xaxis\": {\n",
       "        \"showticklabels\": true,\n",
       "        \"gridwidth\": 0.5,\n",
       "        \"tickvals\": [\n",
       "            0.0,\n",
       "            20.0,\n",
       "            40.0,\n",
       "            60.0,\n",
       "            80.0\n",
       "        ],\n",
       "        \"range\": [\n",
       "            -1.4299999999999997,\n",
       "            84.43\n",
       "        ],\n",
       "        \"domain\": [\n",
       "            0.061654272382618835,\n",
       "            0.9934383202099737\n",
       "        ],\n",
       "        \"mirror\": false,\n",
       "        \"tickangle\": 0,\n",
       "        \"showline\": true,\n",
       "        \"ticktext\": [\n",
       "            \"0\",\n",
       "            \"20\",\n",
       "            \"40\",\n",
       "            \"60\",\n",
       "            \"80\"\n",
       "        ],\n",
       "        \"zeroline\": false,\n",
       "        \"tickfont\": {\n",
       "            \"color\": \"rgba(0, 0, 0, 1.000)\",\n",
       "            \"family\": \"sans-serif\",\n",
       "            \"size\": 11\n",
       "        },\n",
       "        \"zerolinecolor\": \"rgba(0, 0, 0, 1.000)\",\n",
       "        \"anchor\": \"y\",\n",
       "        \"visible\": true,\n",
       "        \"ticks\": \"inside\",\n",
       "        \"tickmode\": \"array\",\n",
       "        \"linecolor\": \"rgba(0, 0, 0, 1.000)\",\n",
       "        \"showgrid\": true,\n",
       "        \"title\": \"$t~[nm]$\",\n",
       "        \"gridcolor\": \"rgba(0, 0, 0, 0.100)\",\n",
       "        \"titlefont\": {\n",
       "            \"color\": \"rgba(0, 0, 0, 1.000)\",\n",
       "            \"family\": \"sans-serif\",\n",
       "            \"size\": 15\n",
       "        },\n",
       "        \"tickcolor\": \"rgb(0, 0, 0)\",\n",
       "        \"type\": \"-\"\n",
       "    },\n",
       "    \"paper_bgcolor\": \"rgba(255, 255, 255, 1.000)\",\n",
       "    \"annotations\": [],\n",
       "    \"height\": 400,\n",
       "    \"margin\": {\n",
       "        \"l\": 0,\n",
       "        \"b\": 20,\n",
       "        \"r\": 0,\n",
       "        \"t\": 20\n",
       "    },\n",
       "    \"plot_bgcolor\": \"rgba(255, 255, 255, 1.000)\",\n",
       "    \"yaxis\": {\n",
       "        \"showticklabels\": true,\n",
       "        \"gridwidth\": 0.5,\n",
       "        \"tickvals\": [\n",
       "            -2.0,\n",
       "            -1.0,\n",
       "            0.0,\n",
       "            1.0,\n",
       "            2.0,\n",
       "            3.0,\n",
       "            4.0\n",
       "        ],\n",
       "        \"range\": [\n",
       "            -2.236985910488838,\n",
       "            4.376522174813055\n",
       "        ],\n",
       "        \"domain\": [\n",
       "            0.07581474190726165,\n",
       "            0.9901574803149606\n",
       "        ],\n",
       "        \"mirror\": false,\n",
       "        \"tickangle\": 0,\n",
       "        \"showline\": true,\n",
       "        \"ticktext\": [\n",
       "            \"−2\",\n",
       "            \"−1\",\n",
       "            \"0\",\n",
       "            \"1\",\n",
       "            \"2\",\n",
       "            \"3\",\n",
       "            \"4\"\n",
       "        ],\n",
       "        \"zeroline\": false,\n",
       "        \"tickfont\": {\n",
       "            \"color\": \"rgba(0, 0, 0, 1.000)\",\n",
       "            \"family\": \"sans-serif\",\n",
       "            \"size\": 11\n",
       "        },\n",
       "        \"zerolinecolor\": \"rgba(0, 0, 0, 1.000)\",\n",
       "        \"anchor\": \"x\",\n",
       "        \"visible\": true,\n",
       "        \"ticks\": \"inside\",\n",
       "        \"tickmode\": \"array\",\n",
       "        \"linecolor\": \"rgba(0, 0, 0, 1.000)\",\n",
       "        \"showgrid\": true,\n",
       "        \"title\": \"$Field$\",\n",
       "        \"gridcolor\": \"rgba(0, 0, 0, 0.100)\",\n",
       "        \"titlefont\": {\n",
       "            \"color\": \"rgba(0, 0, 0, 1.000)\",\n",
       "            \"family\": \"sans-serif\",\n",
       "            \"size\": 15\n",
       "        },\n",
       "        \"tickcolor\": \"rgb(0, 0, 0)\",\n",
       "        \"type\": \"-\"\n",
       "    },\n",
       "    \"legend\": {\n",
       "        \"yanchor\": \"top\",\n",
       "        \"xanchor\": \"left\",\n",
       "        \"bordercolor\": \"rgba(0, 0, 0, 1.000)\",\n",
       "        \"bgcolor\": \"rgba(255, 255, 255, 1.000)\",\n",
       "        \"borderwidth\": 1,\n",
       "        \"tracegroupgap\": 0,\n",
       "        \"y\": 1.0,\n",
       "        \"font\": {\n",
       "            \"color\": \"rgba(0, 0, 0, 1.000)\",\n",
       "            \"family\": \"sans-serif\",\n",
       "            \"size\": 11\n",
       "        },\n",
       "        \"title\": {\n",
       "            \"font\": {\n",
       "                \"color\": \"rgba(0, 0, 0, 1.000)\",\n",
       "                \"family\": \"sans-serif\",\n",
       "                \"size\": 15\n",
       "            },\n",
       "            \"text\": \"\"\n",
       "        },\n",
       "        \"traceorder\": \"normal\",\n",
       "        \"x\": 0.07\n",
       "    },\n",
       "    \"width\": 600\n",
       "}\n",
       ");\n",
       "    });\n",
       "    </script>\n"
      ]
     },
     "execution_count": 226,
     "metadata": {},
     "output_type": "execute_result"
    }
   ],
   "source": [
    "plotly()\n",
    "plot(real.(H[:,3]),c=:black,lw=1.5,label=L\"\\Re\\{ H(\\mathbf{s}(t)) \\}\")\n",
    "plot!(real.(ϕ[:,3])./k0,c=:blue,lw=1.5,ls=:dash,label=L\"\\Re\\{ \\phi(\\mathbf{s}(t)) \\}/ k_0\",xlabel=L\"t~[nm]\",ylabel=L\"Field\",legend=:topleft)"
   ]
  },
  {
   "cell_type": "markdown",
   "id": "72965bfa-b9f4-477c-ab7e-3add9aa56b76",
   "metadata": {},
   "source": [
    "# ========================================"
   ]
  },
  {
   "cell_type": "code",
   "execution_count": 50,
   "id": "4bb5fb8f-44d1-4b0a-877e-ce5a340038dc",
   "metadata": {},
   "outputs": [
    {
     "data": {
      "text/plain": [
       "getHₛ (generic function with 2 methods)"
      ]
     },
     "execution_count": 50,
     "metadata": {},
     "output_type": "execute_result"
    }
   ],
   "source": [
    "function fCoef(kx::Number,ky1::Number,k0::Number,layer::layerstructure)\n",
    "    rtC = rtcoeffs(layer,k0,[kx,],\"up\")\n",
    "    rp = rtC.r.TM[1]\n",
    "    \n",
    "    f1 = (r::Vector{Float64}) ->  exp(-im*kx*r[1])*(exp(-im*ky1*r[2]) + rp*exp(im*ky1*r[2]))\n",
    "    f2 = (r::Vector{Float64}) ->  exp(-im*kx*r[1])*(exp(-im*ky1*r[2]) - rp*exp(im*ky1*r[2]))\n",
    "    \n",
    "    f1,f2\n",
    "end\n",
    "\n",
    "function getHₛ(θ::Number,Rf::Number,ϕ::Matrix{ComplexF64},H::Matrix{ComplexF64},k0::Number,m::Int64,str::Structure,layer::layerstructure)\n",
    "    _,SArr= getSvec(m,str)\n",
    "    \n",
    "    k₁ = layer.mat[1].k(k0)\n",
    "    n₁ = layer.mat[1].n(k0)\n",
    "    \n",
    "    \n",
    "    hₛF = 0.0*im\n",
    "    if θ ≥ 0. && θ < π\n",
    "        kx = k₁*cos(θ)\n",
    "        ky1 = kyi(kx,k₁)\n",
    "        \n",
    "        f1,f2 = fCoef(kx,ky1,k0,layer)\n",
    "    \n",
    "        sum1 = 0.0*im\n",
    "        for i ∈ 1:numEl(str)\n",
    "            for v ∈ 0:m\n",
    "                elI,_ =   quadgk(x -> ϕ[i,v+1]*f1(SQuad(x,i,str)) - H[i,v+1]*(nQuad(x,i,str)⋅[-im*kx*f1(SQuad(x,i,str)),-im*ky1*f2(SQuad(x,i,str))])*fpol(m,v,x),0,1)\n",
    "                sum1 += Δ(i,SArr)*elI\n",
    "            end\n",
    "        end\n",
    "\n",
    "        hₛF =  (-exp(im*k₁*Rf)/√(Rf))*(exp(-im*(π/4))/4)*√(2/(π*k₁))*sum1\n",
    "        \n",
    "    elseif θ < 0 && θ > -π\n",
    "        \n",
    "        kₙ = layer.mat[end].k(k0)\n",
    "        nₙ = layer.mat[end].n(k0)\n",
    "        \n",
    "        kx = kₙ*cos(θ)\n",
    "        ky1 = kyi(kx,k₁)\n",
    "        kyn = kyi(kx,kₙ)\n",
    "        rtC = rtcoeffs(layer,k0,[kx,],\"up\")\n",
    "        tp = rtC.t.TM[1]\n",
    "        \n",
    "        \n",
    "        sum1 = 0.0*im\n",
    "        for i ∈ 1:numEl(str)\n",
    "            for v ∈ 0:m\n",
    "                elI,_ = quadgk(x -> exp(-im*kx*SQuad(x,i,str)[1])*exp(im*ky1*SQuad(x,i,str)[2])*(ϕ[i,v+1]-H[i,v+1]*(nQuad(x,i,str)⋅[-im*kx,im*ky1]))*fpol(m,v,x),0,1)\n",
    "                sum1 += Δ(i,SArr)*elI\n",
    "            end\n",
    "        end\n",
    "        \n",
    "         hₛF = (-exp(im*kₙ*Rf)/√(Rf))*(exp(-im*(π/4))/4)*√(2/(π*kₙ))*(kyn/ky1)*tp*sum1\n",
    "    end\n",
    "    \n",
    "    hₛF\n",
    "end"
   ]
  },
  {
   "cell_type": "code",
   "execution_count": 51,
   "id": "737d706d-ce23-4533-a386-e11af05de7bb",
   "metadata": {},
   "outputs": [
    {
     "data": {
      "text/plain": [
       "3.1315926535897933"
      ]
     },
     "execution_count": 51,
     "metadata": {},
     "output_type": "execute_result"
    }
   ],
   "source": [
    "θ = π-0.01"
   ]
  },
  {
   "cell_type": "code",
   "execution_count": 52,
   "id": "3de7b7e6-a768-41fe-8b5b-16ef9fc50c2c",
   "metadata": {},
   "outputs": [
    {
     "data": {
      "text/plain": [
       "500"
      ]
     },
     "execution_count": 52,
     "metadata": {},
     "output_type": "execute_result"
    }
   ],
   "source": [
    "Rf = 500"
   ]
  },
  {
   "cell_type": "code",
   "execution_count": 53,
   "id": "ffda2166-a6a0-41c1-bdd8-4ecc6cdcff62",
   "metadata": {},
   "outputs": [
    {
     "data": {
      "text/plain": [
       "-0.0008973052686209937 - 0.011887169015120607im"
      ]
     },
     "execution_count": 53,
     "metadata": {},
     "output_type": "execute_result"
    }
   ],
   "source": [
    "getHₛ(θ,Rf,ϕ,H,k0,m,rod,layer)"
   ]
  },
  {
   "cell_type": "code",
   "execution_count": 54,
   "id": "d237b036-479a-4d57-b16f-74342009913a",
   "metadata": {},
   "outputs": [
    {
     "data": {
      "text/plain": [
       "-0.1:-0.1:-3.1"
      ]
     },
     "execution_count": 54,
     "metadata": {},
     "output_type": "execute_result"
    }
   ],
   "source": [
    "θA  = 0.1:0.1:π\n",
    "θAn  = -0.1:-0.1:-π"
   ]
  },
  {
   "cell_type": "code",
   "execution_count": 213,
   "id": "d6d7dfc8-7728-41ab-8017-5678cde09f19",
   "metadata": {},
   "outputs": [],
   "source": [
    "HsV = [getHₛ(θA[i],Rf,ϕ,H,k0,m,rod,layer) for i in eachindex(θA)];"
   ]
  },
  {
   "cell_type": "code",
   "execution_count": 214,
   "id": "7be2fa62-cb7e-413f-bbff-5f0fbcf5dc78",
   "metadata": {},
   "outputs": [],
   "source": [
    "HsVn = [getHₛ(θAn[i],Rf,ϕ,H,k0,m,rod,layer) for i in eachindex(θAn)];"
   ]
  },
  {
   "cell_type": "code",
   "execution_count": 215,
   "id": "3d895a36-6826-4695-bc58-3f2b15b3e460",
   "metadata": {},
   "outputs": [
    {
     "data": {
      "application/vnd.plotly.v1+json": {
       "data": [
        {
         "colorbar": {
          "len": 0.9525371828521435,
          "title": {
           "text": ""
          },
          "x": 0.9934383202099737,
          "y": 0.513888888888889
         },
         "legendgroup": "y1",
         "line": {
          "color": "rgba(0, 154, 250, 1.000)",
          "dash": "solid",
          "shape": "linear",
          "width": 1
         },
         "mode": "lines",
         "name": "y1",
         "r": [
          4.561166452863547,
          13.445881333157445,
          23.428467949053356,
          33.582447923242576,
          43.69602097325214,
          53.73422788458622,
          63.657573667040666,
          73.36843375729039,
          82.70474456768432,
          91.45180761207251,
          99.3614540766985,
          106.17429538162128,
          111.64280440119883,
          115.55339476074347,
          117.7456593852805,
          118.12698618564193,
          116.68107309672827,
          113.46943304280249,
          108.62572448364637,
          102.34352103614998,
          94.85879042337872,
          86.42877223953923,
          77.30909286792595,
          67.73093844517449,
          57.88026097035183,
          47.88213342803223,
          37.79745484879037,
          27.65121159222739,
          17.544959704090203,
          8.00086717755165,
          0.9690510600717875
         ],
         "showlegend": true,
         "theta": [
          5.729577951308233,
          11.459155902616466,
          17.1887338539247,
          22.918311805232932,
          28.64788975654116,
          34.37746770784939,
          40.10704565915763,
          45.836623610465864,
          51.56620156177409,
          57.29577951308232,
          63.02535746439056,
          68.7549354156988,
          74.48451336700704,
          80.21409131831525,
          85.9436692696235,
          91.67324722093173,
          97.40282517223996,
          103.1324031235482,
          108.86198107485642,
          114.59155902616465,
          120.32113697747289,
          126.05071492878112,
          131.78029288008935,
          137.5098708313976,
          143.23944878270584,
          148.96902673401405,
          154.6986046853223,
          160.4281826366305,
          166.15776058793875,
          171.887338539247,
          177.6169164905552
         ],
         "type": "scatterpolar",
         "xaxis": "x",
         "yaxis": "y"
        },
        {
         "colorbar": {
          "len": 0.9525371828521435,
          "title": {
           "text": ""
          },
          "x": 0.9934383202099737,
          "y": 0.513888888888889
         },
         "legendgroup": "y2",
         "line": {
          "color": "rgba(227, 111, 71, 1.000)",
          "dash": "solid",
          "shape": "linear",
          "width": 1
         },
         "mode": "lines",
         "name": "y2",
         "r": [
          2.837849227570933,
          11.20604592709586,
          24.60711213589061,
          41.97036289958803,
          61.10867047450645,
          77.28227035989684,
          78.43583376326092,
          20.31403830888929,
          40.88031627715883,
          65.81814734935689,
          85.7271994679262,
          102.25820277326301,
          115.40488587954964,
          124.80442466033541,
          130.0838373975413,
          131.00308324790075,
          127.51843019483397,
          119.79269094633251,
          108.15526546616782,
          92.99845565477993,
          74.54547954530902,
          52.156591938963686,
          19.999641652278502,
          67.08778131187208,
          80.80308752480062,
          68.62536498253962,
          49.90259007873304,
          31.438443283124602,
          16.2131357688551,
          5.66569242317568,
          0.49257968925150075
         ],
         "showlegend": true,
         "theta": [
          -5.729577951308233,
          -11.459155902616466,
          -17.1887338539247,
          -22.918311805232932,
          -28.64788975654116,
          -34.37746770784939,
          -40.10704565915763,
          -45.836623610465864,
          -51.56620156177409,
          -57.29577951308232,
          -63.02535746439056,
          -68.7549354156988,
          -74.48451336700704,
          -80.21409131831525,
          -85.9436692696235,
          -91.67324722093173,
          -97.40282517223996,
          -103.1324031235482,
          -108.86198107485642,
          -114.59155902616465,
          -120.32113697747289,
          -126.05071492878112,
          -131.78029288008935,
          -137.5098708313976,
          -143.23944878270584,
          -148.96902673401405,
          -154.6986046853223,
          -160.4281826366305,
          -166.15776058793875,
          -171.887338539247,
          -177.6169164905552
         ],
         "type": "scatterpolar",
         "xaxis": "x",
         "yaxis": "y"
        }
       ],
       "layout": {
        "angularaxis": {
         "range": [
          0,
          360
         ],
         "showline": true,
         "visible": true
        },
        "annotations": [],
        "direction": "counterclockwise",
        "height": 400,
        "legend": {
         "bgcolor": "rgba(255, 255, 255, 1.000)",
         "bordercolor": "rgba(0, 0, 0, 1)",
         "borderwidth": 1,
         "font": {
          "color": "rgba(0, 0, 0, 1)",
          "family": "sans-serif",
          "size": 11
         },
         "title": {
          "font": {
           "color": "rgba(0, 0, 0, 1)",
           "family": "sans-serif",
           "size": 15
          },
          "text": ""
         },
         "tracegroupgap": 0,
         "traceorder": "normal",
         "x": 1,
         "xanchor": "auto",
         "y": 1,
         "yanchor": "auto"
        },
        "margin": {
         "b": 20,
         "l": 0,
         "r": 0,
         "t": 20
        },
        "paper_bgcolor": "rgba(255, 255, 255, 1.000)",
        "plot_bgcolor": "rgba(255, 255, 255, 1.000)",
        "polar": {
         "angularaxis": {
          "type": "linear"
         },
         "radialaxis": {
          "autorange": true,
          "range": [
           0,
           131.00308324790075
          ],
          "type": "linear"
         }
        },
        "radialaxis": {
         "orientation": -90,
         "range": [
          0,
          144.05413360376568
         ],
         "showline": true,
         "visible": true
        },
        "showlegend": true,
        "width": 600
       }
      },
      "image/png": "[encoded data removed]",
      "text/html": [
       "    <div id=\"e3c59101-4c5c-4a04-970e-908cbe9fa106\" style=\"width:600px;height:400px;\"></div>\n",
       "    <script>\n",
       "        requirejs.config({\n",
       "        paths: {\n",
       "            plotly: 'https://cdn.plot.ly/plotly-2.6.3.min'\n",
       "        }\n",
       "    });\n",
       "    require(['plotly'], function (Plotly) {\n",
       "\n",
       "    Plotly.newPlot('e3c59101-4c5c-4a04-970e-908cbe9fa106', [\n",
       "    {\n",
       "        \"showlegend\": true,\n",
       "        \"mode\": \"lines\",\n",
       "        \"xaxis\": \"x\",\n",
       "        \"colorbar\": {\n",
       "            \"y\": 0.513888888888889,\n",
       "            \"title\": \"\",\n",
       "            \"len\": 0.9525371828521435,\n",
       "            \"x\": 0.9934383202099737\n",
       "        },\n",
       "        \"name\": \"y1\",\n",
       "        \"yaxis\": \"y\",\n",
       "        \"legendgroup\": \"y1\",\n",
       "        \"r\": [\n",
       "            4.561166452863547,\n",
       "            13.445881333157445,\n",
       "            23.428467949053356,\n",
       "            33.582447923242576,\n",
       "            43.69602097325214,\n",
       "            53.73422788458622,\n",
       "            63.657573667040666,\n",
       "            73.36843375729039,\n",
       "            82.70474456768432,\n",
       "            91.45180761207251,\n",
       "            99.3614540766985,\n",
       "            106.17429538162128,\n",
       "            111.64280440119883,\n",
       "            115.55339476074347,\n",
       "            117.7456593852805,\n",
       "            118.12698618564193,\n",
       "            116.68107309672827,\n",
       "            113.46943304280249,\n",
       "            108.62572448364637,\n",
       "            102.34352103614998,\n",
       "            94.85879042337872,\n",
       "            86.42877223953923,\n",
       "            77.30909286792595,\n",
       "            67.73093844517449,\n",
       "            57.88026097035183,\n",
       "            47.88213342803223,\n",
       "            37.79745484879037,\n",
       "            27.65121159222739,\n",
       "            17.544959704090203,\n",
       "            8.00086717755165,\n",
       "            0.9690510600717875\n",
       "        ],\n",
       "        \"line\": {\n",
       "            \"color\": \"rgba(0, 154, 250, 1.000)\",\n",
       "            \"shape\": \"linear\",\n",
       "            \"dash\": \"solid\",\n",
       "            \"width\": 1\n",
       "        },\n",
       "        \"type\": \"scatterpolar\",\n",
       "        \"theta\": [\n",
       "            5.729577951308233,\n",
       "            11.459155902616466,\n",
       "            17.1887338539247,\n",
       "            22.918311805232932,\n",
       "            28.64788975654116,\n",
       "            34.37746770784939,\n",
       "            40.10704565915763,\n",
       "            45.836623610465864,\n",
       "            51.56620156177409,\n",
       "            57.29577951308232,\n",
       "            63.02535746439056,\n",
       "            68.7549354156988,\n",
       "            74.48451336700704,\n",
       "            80.21409131831525,\n",
       "            85.9436692696235,\n",
       "            91.67324722093173,\n",
       "            97.40282517223996,\n",
       "            103.1324031235482,\n",
       "            108.86198107485642,\n",
       "            114.59155902616465,\n",
       "            120.32113697747289,\n",
       "            126.05071492878112,\n",
       "            131.78029288008935,\n",
       "            137.5098708313976,\n",
       "            143.23944878270584,\n",
       "            148.96902673401405,\n",
       "            154.6986046853223,\n",
       "            160.4281826366305,\n",
       "            166.15776058793875,\n",
       "            171.887338539247,\n",
       "            177.6169164905552\n",
       "        ]\n",
       "    },\n",
       "    {\n",
       "        \"showlegend\": true,\n",
       "        \"mode\": \"lines\",\n",
       "        \"xaxis\": \"x\",\n",
       "        \"colorbar\": {\n",
       "            \"y\": 0.513888888888889,\n",
       "            \"title\": \"\",\n",
       "            \"len\": 0.9525371828521435,\n",
       "            \"x\": 0.9934383202099737\n",
       "        },\n",
       "        \"name\": \"y2\",\n",
       "        \"yaxis\": \"y\",\n",
       "        \"legendgroup\": \"y2\",\n",
       "        \"r\": [\n",
       "            2.837849227570933,\n",
       "            11.20604592709586,\n",
       "            24.60711213589061,\n",
       "            41.97036289958803,\n",
       "            61.10867047450645,\n",
       "            77.28227035989684,\n",
       "            78.43583376326092,\n",
       "            20.31403830888929,\n",
       "            40.88031627715883,\n",
       "            65.81814734935689,\n",
       "            85.7271994679262,\n",
       "            102.25820277326301,\n",
       "            115.40488587954964,\n",
       "            124.80442466033541,\n",
       "            130.0838373975413,\n",
       "            131.00308324790075,\n",
       "            127.51843019483397,\n",
       "            119.79269094633251,\n",
       "            108.15526546616782,\n",
       "            92.99845565477993,\n",
       "            74.54547954530902,\n",
       "            52.156591938963686,\n",
       "            19.999641652278502,\n",
       "            67.08778131187208,\n",
       "            80.80308752480062,\n",
       "            68.62536498253962,\n",
       "            49.90259007873304,\n",
       "            31.438443283124602,\n",
       "            16.2131357688551,\n",
       "            5.66569242317568,\n",
       "            0.49257968925150075\n",
       "        ],\n",
       "        \"line\": {\n",
       "            \"color\": \"rgba(227, 111, 71, 1.000)\",\n",
       "            \"shape\": \"linear\",\n",
       "            \"dash\": \"solid\",\n",
       "            \"width\": 1\n",
       "        },\n",
       "        \"type\": \"scatterpolar\",\n",
       "        \"theta\": [\n",
       "            -5.729577951308233,\n",
       "            -11.459155902616466,\n",
       "            -17.1887338539247,\n",
       "            -22.918311805232932,\n",
       "            -28.64788975654116,\n",
       "            -34.37746770784939,\n",
       "            -40.10704565915763,\n",
       "            -45.836623610465864,\n",
       "            -51.56620156177409,\n",
       "            -57.29577951308232,\n",
       "            -63.02535746439056,\n",
       "            -68.7549354156988,\n",
       "            -74.48451336700704,\n",
       "            -80.21409131831525,\n",
       "            -85.9436692696235,\n",
       "            -91.67324722093173,\n",
       "            -97.40282517223996,\n",
       "            -103.1324031235482,\n",
       "            -108.86198107485642,\n",
       "            -114.59155902616465,\n",
       "            -120.32113697747289,\n",
       "            -126.05071492878112,\n",
       "            -131.78029288008935,\n",
       "            -137.5098708313976,\n",
       "            -143.23944878270584,\n",
       "            -148.96902673401405,\n",
       "            -154.6986046853223,\n",
       "            -160.4281826366305,\n",
       "            -166.15776058793875,\n",
       "            -171.887338539247,\n",
       "            -177.6169164905552\n",
       "        ]\n",
       "    }\n",
       "]\n",
       ", {\n",
       "    \"angularaxis\": {\n",
       "        \"showline\": true,\n",
       "        \"visible\": true,\n",
       "        \"range\": [\n",
       "            0.0,\n",
       "            360.0\n",
       "        ]\n",
       "    },\n",
       "    \"showlegend\": true,\n",
       "    \"paper_bgcolor\": \"rgba(255, 255, 255, 1.000)\",\n",
       "    \"legend\": {\n",
       "        \"yanchor\": \"auto\",\n",
       "        \"xanchor\": \"auto\",\n",
       "        \"bordercolor\": \"rgba(0, 0, 0, 1.000)\",\n",
       "        \"bgcolor\": \"rgba(255, 255, 255, 1.000)\",\n",
       "        \"borderwidth\": 1,\n",
       "        \"tracegroupgap\": 0,\n",
       "        \"y\": 1.0,\n",
       "        \"font\": {\n",
       "            \"color\": \"rgba(0, 0, 0, 1.000)\",\n",
       "            \"family\": \"sans-serif\",\n",
       "            \"size\": 11\n",
       "        },\n",
       "        \"title\": {\n",
       "            \"font\": {\n",
       "                \"color\": \"rgba(0, 0, 0, 1.000)\",\n",
       "                \"family\": \"sans-serif\",\n",
       "                \"size\": 15\n",
       "            },\n",
       "            \"text\": \"\"\n",
       "        },\n",
       "        \"traceorder\": \"normal\",\n",
       "        \"x\": 1.0\n",
       "    },\n",
       "    \"height\": 400,\n",
       "    \"radialaxis\": {\n",
       "        \"showline\": true,\n",
       "        \"visible\": true,\n",
       "        \"range\": [\n",
       "            0,\n",
       "            144.05413360376568\n",
       "        ],\n",
       "        \"orientation\": -90\n",
       "    },\n",
       "    \"annotations\": [],\n",
       "    \"plot_bgcolor\": \"rgba(255, 255, 255, 1.000)\",\n",
       "    \"margin\": {\n",
       "        \"l\": 0,\n",
       "        \"b\": 20,\n",
       "        \"r\": 0,\n",
       "        \"t\": 20\n",
       "    },\n",
       "    \"direction\": \"counterclockwise\",\n",
       "    \"width\": 600\n",
       "}\n",
       ");\n",
       "    });\n",
       "    </script>\n"
      ]
     },
     "execution_count": 215,
     "metadata": {},
     "output_type": "execute_result"
    }
   ],
   "source": [
    "plot( θA,abs.(HsV).^2 .*Rf,proj=:polar)\n",
    "plot!( θAn,abs.(HsVn).^2 .*Rf,proj=:polar)"
   ]
  },
  {
   "cell_type": "code",
   "execution_count": 216,
   "id": "8899042b-6503-44ac-b24c-2a8d74687564",
   "metadata": {},
   "outputs": [
    {
     "data": {
      "text/plain": [
       "31-element Vector{Float64}:\n",
       "   4.561166452863547\n",
       "  13.445881333157445\n",
       "  23.428467949053356\n",
       "  33.582447923242576\n",
       "  43.69602097325214\n",
       "  53.73422788458622\n",
       "  63.657573667040666\n",
       "  73.36843375729039\n",
       "  82.70474456768432\n",
       "  91.45180761207251\n",
       "  99.3614540766985\n",
       " 106.17429538162128\n",
       " 111.64280440119883\n",
       "   ⋮\n",
       " 102.34352103614998\n",
       "  94.85879042337872\n",
       "  86.42877223953923\n",
       "  77.30909286792595\n",
       "  67.73093844517449\n",
       "  57.88026097035183\n",
       "  47.88213342803223\n",
       "  37.79745484879037\n",
       "  27.65121159222739\n",
       "  17.544959704090203\n",
       "   8.00086717755165\n",
       "   0.9690510600717875"
      ]
     },
     "execution_count": 216,
     "metadata": {},
     "output_type": "execute_result"
    }
   ],
   "source": [
    "abs.(HsV).^2 .*Rf"
   ]
  },
  {
   "cell_type": "code",
   "execution_count": 217,
   "id": "091802c2-452c-4479-863b-c1f039451514",
   "metadata": {},
   "outputs": [
    {
     "data": {
      "text/plain": [
       "10.772245392906168"
      ]
     },
     "execution_count": 217,
     "metadata": {},
     "output_type": "execute_result"
    }
   ],
   "source": [
    "sum(abs.(HsV))"
   ]
  },
  {
   "cell_type": "code",
   "execution_count": 218,
   "id": "23d2e628-fc59-4625-83f6-4dfba4d376f3",
   "metadata": {},
   "outputs": [
    {
     "data": {
      "text/plain": [
       "68.30350486218994"
      ]
     },
     "execution_count": 218,
     "metadata": {},
     "output_type": "execute_result"
    }
   ],
   "source": [
    "sum(abs.(HsV).^2 * Rf)/length(HsV)"
   ]
  },
  {
   "cell_type": "code",
   "execution_count": 227,
   "id": "17332260-5ddc-45cd-b7a3-ac1eb0e5be46",
   "metadata": {},
   "outputs": [
    {
     "data": {
      "text/plain": [
       "65.45604872937899"
      ]
     },
     "execution_count": 227,
     "metadata": {},
     "output_type": "execute_result"
    }
   ],
   "source": [
    "sum(abs.(HsVn).^2 * Rf)/length(HsV)"
   ]
  },
  {
   "cell_type": "code",
   "execution_count": 219,
   "id": "93e034dc-0338-4617-acfa-78e9ddd7c6e4",
   "metadata": {},
   "outputs": [
    {
     "data": {
      "text/plain": [
       "0.0 - 0.0im"
      ]
     },
     "execution_count": 219,
     "metadata": {},
     "output_type": "execute_result"
    }
   ],
   "source": [
    "conj(getHₛ(90,Rf,ϕ,H,k0,m,rod,layer))"
   ]
  },
  {
   "cell_type": "code",
   "execution_count": 220,
   "id": "1d31ee56-e062-4d53-8d9b-2f296c3bc6aa",
   "metadata": {},
   "outputs": [],
   "source": [
    "rp,SArr= getSvec(m,rod);"
   ]
  },
  {
   "cell_type": "code",
   "execution_count": 221,
   "id": "f8f25bb7-c135-44fe-8c89-b0d4ab813af9",
   "metadata": {},
   "outputs": [
    {
     "data": {
      "text/plain": [
       "δ (generic function with 2 methods)"
      ]
     },
     "execution_count": 221,
     "metadata": {},
     "output_type": "execute_result"
    }
   ],
   "source": [
    "δ(i::Int64,j::Int64) = i == j ? 1 : 0\n",
    "\n",
    "δ(Sᵢ::Vector{Float64}) = [0.;1.]⋅Sᵢ == 0 ? 1 : 0"
   ]
  },
  {
   "cell_type": "code",
   "execution_count": 35,
   "id": "edefd35a-04f7-44c4-91a7-eb62f57bac88",
   "metadata": {},
   "outputs": [
    {
     "data": {
      "text/plain": [
       "1"
      ]
     },
     "execution_count": 35,
     "metadata": {},
     "output_type": "execute_result"
    }
   ],
   "source": [
    "i,j, v,vl = 52,52,2,2\n",
    "\n",
    "δ(SArr[i,v+1])"
   ]
  },
  {
   "cell_type": "code",
   "execution_count": 36,
   "id": "eb7a3411-4f38-47e4-9401-b05120f4127c",
   "metadata": {},
   "outputs": [
    {
     "data": {
      "text/plain": [
       "2-element Vector{Float64}:\n",
       " 17.620689655172416\n",
       "  0.0"
      ]
     },
     "execution_count": 36,
     "metadata": {},
     "output_type": "execute_result"
    }
   ],
   "source": [
    "sV = SArr[i,v+1]"
   ]
  },
  {
   "cell_type": "code",
   "execution_count": 37,
   "id": "2974d8f8-eeb3-4ced-b362-d5a0d26e64fa",
   "metadata": {},
   "outputs": [
    {
     "data": {
      "text/plain": [
       "0.5"
      ]
     },
     "execution_count": 37,
     "metadata": {},
     "output_type": "execute_result"
    }
   ],
   "source": [
    "constBel(i,j,v,vl,1,SArr[i,v+1],layer,k0,\"Homo\")"
   ]
  },
  {
   "cell_type": "code",
   "execution_count": 38,
   "id": "b777d082-58da-4f0d-acf6-f7929bc12ae7",
   "metadata": {},
   "outputs": [
    {
     "data": {
      "text/plain": [
       "0.6782811462456697"
      ]
     },
     "execution_count": 38,
     "metadata": {},
     "output_type": "execute_result"
    }
   ],
   "source": [
    "constBel(i,j,v,vl,1,SArr[i,v+1],layer,k0,\"layer\")"
   ]
  },
  {
   "cell_type": "code",
   "execution_count": 39,
   "id": "a4351743-0a7a-494f-b9aa-ea33dd21b05f",
   "metadata": {},
   "outputs": [],
   "source": [
    "ε₂ = layer.mat[end].ε(k0)\n",
    "ε₁ = layer.mat[1].ε(k0);"
   ]
  },
  {
   "cell_type": "code",
   "execution_count": 40,
   "id": "c5b0283f-129b-430d-b22e-5d9b0503f571",
   "metadata": {},
   "outputs": [
    {
     "data": {
      "text/plain": [
       "0.6782811462456697"
      ]
     },
     "execution_count": 40,
     "metadata": {},
     "output_type": "execute_result"
    }
   ],
   "source": [
    "0.5*δ(sV)*(ε₂-ε₁)/(ε₂+ε₁)+0.5"
   ]
  },
  {
   "cell_type": "code",
   "execution_count": 41,
   "id": "3bacc30f-9d6b-440f-80d2-0df6fc2c8d80",
   "metadata": {},
   "outputs": [
    {
     "data": {
      "text/plain": [
       "0.6782466725595282 + 0.00043491917743403727im"
      ]
     },
     "execution_count": 41,
     "metadata": {},
     "output_type": "execute_result"
    }
   ],
   "source": [
    "intl =  BelementQuad(i,j,1,m,v,vl,k0,Grf,SArr,rp,rod,layer,\"layer\")"
   ]
  },
  {
   "cell_type": "code",
   "execution_count": 42,
   "id": "bd3c8fb3-0625-4140-9876-7f87ca0076be",
   "metadata": {},
   "outputs": [
    {
     "data": {
      "text/plain": [
       "0.4999655263138585 + 0.00043491917743403727im"
      ]
     },
     "execution_count": 42,
     "metadata": {},
     "output_type": "execute_result"
    }
   ],
   "source": [
    "inth =  BelementQuad(i,j,1,m,v,vl,k0,Grf,SArr,rp,rod,layer,\"Homo\")"
   ]
  },
  {
   "cell_type": "code",
   "execution_count": 43,
   "id": "3542c326-9f2f-4f22-9862-2dae45daf4ca",
   "metadata": {},
   "outputs": [
    {
     "data": {
      "text/plain": [
       "0.1782811462456697 + 0.0im"
      ]
     },
     "execution_count": 43,
     "metadata": {},
     "output_type": "execute_result"
    }
   ],
   "source": [
    "intl-inth"
   ]
  },
  {
   "cell_type": "code",
   "execution_count": 44,
   "id": "41b11d4c-1795-4251-95da-67746bd51042",
   "metadata": {},
   "outputs": [
    {
     "data": {
      "text/plain": [
       "2-element Vector{Float64}:\n",
       " 1.0\n",
       " 2.0"
      ]
     },
     "execution_count": 44,
     "metadata": {},
     "output_type": "execute_result"
    }
   ],
   "source": [
    "r = [1.0, 2.]"
   ]
  },
  {
   "cell_type": "code",
   "execution_count": 45,
   "id": "1133bd02-36ef-4628-abc9-7046ac5ce845",
   "metadata": {},
   "outputs": [
    {
     "data": {
      "text/plain": [
       "2-element Vector{Float64}:\n",
       "  1.0\n",
       " -2.0"
      ]
     },
     "execution_count": 45,
     "metadata": {},
     "output_type": "execute_result"
    }
   ],
   "source": [
    "r.*[1,-1]"
   ]
  },
  {
   "cell_type": "code",
   "execution_count": 46,
   "id": "374d67da-f1c5-4c9d-ba6c-7db5a13d968c",
   "metadata": {},
   "outputs": [
    {
     "data": {
      "text/plain": [
       "mVec (generic function with 1 method)"
      ]
     },
     "execution_count": 46,
     "metadata": {},
     "output_type": "execute_result"
    }
   ],
   "source": [
    "mVec(r::Vector{Float64}) = r.*[1,-1]"
   ]
  },
  {
   "cell_type": "code",
   "execution_count": 47,
   "id": "628e2539-9b11-4130-b120-37035319ef5e",
   "metadata": {},
   "outputs": [
    {
     "data": {
      "text/plain": [
       "2-element Vector{Float64}:\n",
       " 2.3\n",
       " 4.0"
      ]
     },
     "execution_count": 47,
     "metadata": {},
     "output_type": "execute_result"
    }
   ],
   "source": [
    "vv = [2.3,4]"
   ]
  },
  {
   "cell_type": "code",
   "execution_count": 48,
   "id": "a6d9fab7-732b-4746-aa7f-ad411c4eee9d",
   "metadata": {},
   "outputs": [
    {
     "data": {
      "text/plain": [
       "2-element Vector{Float64}:\n",
       "  2.3\n",
       " -4.0"
      ]
     },
     "execution_count": 48,
     "metadata": {},
     "output_type": "execute_result"
    }
   ],
   "source": [
    "mVec(vv)"
   ]
  },
  {
   "cell_type": "code",
   "execution_count": null,
   "id": "7e91df99-4052-4127-b83b-fcce2b8acca6",
   "metadata": {},
   "outputs": [],
   "source": []
  }
 ],
 "metadata": {
  "kernelspec": {
   "display_name": "Julia 1.9.1",
   "language": "julia",
   "name": "julia-1.9"
  },
  "language_info": {
   "file_extension": ".jl",
   "mimetype": "application/julia",
   "name": "julia",
   "version": "1.9.1"
  }
 },
 "nbformat": 4,
 "nbformat_minor": 5
}
